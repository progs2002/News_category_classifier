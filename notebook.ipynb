{
  "cells": [
    {
      "cell_type": "code",
      "source": [
        "!pip install transformers"
      ],
      "metadata": {
        "colab": {
          "base_uri": "https://localhost:8080/"
        },
        "id": "SigO4RwzvE5p",
        "outputId": "86e78307-a704-42ef-d426-93b6bcbf439d"
      },
      "id": "SigO4RwzvE5p",
      "execution_count": null,
      "outputs": [
        {
          "output_type": "stream",
          "name": "stdout",
          "text": [
            "Looking in indexes: https://pypi.org/simple, https://us-python.pkg.dev/colab-wheels/public/simple/\n",
            "Collecting transformers\n",
            "  Downloading transformers-4.26.1-py3-none-any.whl (6.3 MB)\n",
            "\u001b[2K     \u001b[90m━━━━━━━━━━━━━━━━━━━━━━━━━━━━━━━━━━━━━━━━\u001b[0m \u001b[32m6.3/6.3 MB\u001b[0m \u001b[31m43.5 MB/s\u001b[0m eta \u001b[36m0:00:00\u001b[0m\n",
            "\u001b[?25hRequirement already satisfied: pyyaml>=5.1 in /usr/local/lib/python3.9/dist-packages (from transformers) (6.0)\n",
            "Collecting tokenizers!=0.11.3,<0.14,>=0.11.1\n",
            "  Downloading tokenizers-0.13.2-cp39-cp39-manylinux_2_17_x86_64.manylinux2014_x86_64.whl (7.6 MB)\n",
            "\u001b[2K     \u001b[90m━━━━━━━━━━━━━━━━━━━━━━━━━━━━━━━━━━━━━━━━\u001b[0m \u001b[32m7.6/7.6 MB\u001b[0m \u001b[31m75.5 MB/s\u001b[0m eta \u001b[36m0:00:00\u001b[0m\n",
            "\u001b[?25hRequirement already satisfied: filelock in /usr/local/lib/python3.9/dist-packages (from transformers) (3.9.0)\n",
            "Requirement already satisfied: regex!=2019.12.17 in /usr/local/lib/python3.9/dist-packages (from transformers) (2022.6.2)\n",
            "Collecting huggingface-hub<1.0,>=0.11.0\n",
            "  Downloading huggingface_hub-0.13.2-py3-none-any.whl (199 kB)\n",
            "\u001b[2K     \u001b[90m━━━━━━━━━━━━━━━━━━━━━━━━━━━━━━━━━━━━━━━\u001b[0m \u001b[32m199.2/199.2 KB\u001b[0m \u001b[31m1.6 MB/s\u001b[0m eta \u001b[36m0:00:00\u001b[0m\n",
            "\u001b[?25hRequirement already satisfied: numpy>=1.17 in /usr/local/lib/python3.9/dist-packages (from transformers) (1.22.4)\n",
            "Requirement already satisfied: requests in /usr/local/lib/python3.9/dist-packages (from transformers) (2.25.1)\n",
            "Requirement already satisfied: tqdm>=4.27 in /usr/local/lib/python3.9/dist-packages (from transformers) (4.65.0)\n",
            "Requirement already satisfied: packaging>=20.0 in /usr/local/lib/python3.9/dist-packages (from transformers) (23.0)\n",
            "Requirement already satisfied: typing-extensions>=3.7.4.3 in /usr/local/lib/python3.9/dist-packages (from huggingface-hub<1.0,>=0.11.0->transformers) (4.5.0)\n",
            "Requirement already satisfied: idna<3,>=2.5 in /usr/local/lib/python3.9/dist-packages (from requests->transformers) (2.10)\n",
            "Requirement already satisfied: chardet<5,>=3.0.2 in /usr/local/lib/python3.9/dist-packages (from requests->transformers) (4.0.0)\n",
            "Requirement already satisfied: urllib3<1.27,>=1.21.1 in /usr/local/lib/python3.9/dist-packages (from requests->transformers) (1.26.14)\n",
            "Requirement already satisfied: certifi>=2017.4.17 in /usr/local/lib/python3.9/dist-packages (from requests->transformers) (2022.12.7)\n",
            "Installing collected packages: tokenizers, huggingface-hub, transformers\n",
            "Successfully installed huggingface-hub-0.13.2 tokenizers-0.13.2 transformers-4.26.1\n"
          ]
        }
      ]
    },
    {
      "cell_type": "code",
      "execution_count": null,
      "id": "fcee8f24",
      "metadata": {
        "id": "fcee8f24"
      },
      "outputs": [],
      "source": [
        "#import all basic modules\n",
        "\n",
        "import numpy as np \n",
        "import transformers\n",
        "import torch\n",
        "import torch.nn as nn\n",
        "from torch.utils.data import TensorDataset, DataLoader\n",
        "import pandas as pd\n",
        "import matplotlib.pyplot as plt\n",
        "import seaborn as sns\n",
        "from sklearn.model_selection import train_test_split\n",
        "from sklearn.preprocessing import LabelEncoder\n",
        "from torch import optim"
      ]
    },
    {
      "cell_type": "code",
      "execution_count": null,
      "id": "eb349aab",
      "metadata": {
        "colab": {
          "base_uri": "https://localhost:8080/",
          "height": 225
        },
        "id": "eb349aab",
        "outputId": "a6cdc4a2-d55c-40fa-ff72-302c4d76d76d"
      },
      "outputs": [
        {
          "output_type": "stream",
          "name": "stdout",
          "text": [
            "Mounted at /content/drive\n"
          ]
        },
        {
          "output_type": "execute_result",
          "data": {
            "text/plain": [
              "                                                link  \\\n",
              "0  https://www.huffpost.com/entry/covid-boosters-...   \n",
              "1  https://www.huffpost.com/entry/american-airlin...   \n",
              "2  https://www.huffpost.com/entry/funniest-tweets...   \n",
              "3  https://www.huffpost.com/entry/funniest-parent...   \n",
              "4  https://www.huffpost.com/entry/amy-cooper-lose...   \n",
              "\n",
              "                                            headline   category  \\\n",
              "0  Over 4 Million Americans Roll Up Sleeves For O...  U.S. NEWS   \n",
              "1  American Airlines Flyer Charged, Banned For Li...  U.S. NEWS   \n",
              "2  23 Of The Funniest Tweets About Cats And Dogs ...     COMEDY   \n",
              "3  The Funniest Tweets From Parents This Week (Se...  PARENTING   \n",
              "4  Woman Who Called Cops On Black Bird-Watcher Lo...  U.S. NEWS   \n",
              "\n",
              "                                   short_description               authors  \\\n",
              "0  Health experts said it is too early to predict...  Carla K. Johnson, AP   \n",
              "1  He was subdued by passengers and crew when he ...        Mary Papenfuss   \n",
              "2  \"Until you have a dog you don't understand wha...         Elyse Wanshel   \n",
              "3  \"Accidentally put grown-up toothpaste on my to...      Caroline Bologna   \n",
              "4  Amy Cooper accused investment firm Franklin Te...        Nina Golgowski   \n",
              "\n",
              "        date  \n",
              "0 2022-09-23  \n",
              "1 2022-09-23  \n",
              "2 2022-09-23  \n",
              "3 2022-09-23  \n",
              "4 2022-09-22  "
            ],
            "text/html": [
              "\n",
              "  <div id=\"df-dd7d20fd-4ebe-48fa-9c48-d370e38307a1\">\n",
              "    <div class=\"colab-df-container\">\n",
              "      <div>\n",
              "<style scoped>\n",
              "    .dataframe tbody tr th:only-of-type {\n",
              "        vertical-align: middle;\n",
              "    }\n",
              "\n",
              "    .dataframe tbody tr th {\n",
              "        vertical-align: top;\n",
              "    }\n",
              "\n",
              "    .dataframe thead th {\n",
              "        text-align: right;\n",
              "    }\n",
              "</style>\n",
              "<table border=\"1\" class=\"dataframe\">\n",
              "  <thead>\n",
              "    <tr style=\"text-align: right;\">\n",
              "      <th></th>\n",
              "      <th>link</th>\n",
              "      <th>headline</th>\n",
              "      <th>category</th>\n",
              "      <th>short_description</th>\n",
              "      <th>authors</th>\n",
              "      <th>date</th>\n",
              "    </tr>\n",
              "  </thead>\n",
              "  <tbody>\n",
              "    <tr>\n",
              "      <th>0</th>\n",
              "      <td>https://www.huffpost.com/entry/covid-boosters-...</td>\n",
              "      <td>Over 4 Million Americans Roll Up Sleeves For O...</td>\n",
              "      <td>U.S. NEWS</td>\n",
              "      <td>Health experts said it is too early to predict...</td>\n",
              "      <td>Carla K. Johnson, AP</td>\n",
              "      <td>2022-09-23</td>\n",
              "    </tr>\n",
              "    <tr>\n",
              "      <th>1</th>\n",
              "      <td>https://www.huffpost.com/entry/american-airlin...</td>\n",
              "      <td>American Airlines Flyer Charged, Banned For Li...</td>\n",
              "      <td>U.S. NEWS</td>\n",
              "      <td>He was subdued by passengers and crew when he ...</td>\n",
              "      <td>Mary Papenfuss</td>\n",
              "      <td>2022-09-23</td>\n",
              "    </tr>\n",
              "    <tr>\n",
              "      <th>2</th>\n",
              "      <td>https://www.huffpost.com/entry/funniest-tweets...</td>\n",
              "      <td>23 Of The Funniest Tweets About Cats And Dogs ...</td>\n",
              "      <td>COMEDY</td>\n",
              "      <td>\"Until you have a dog you don't understand wha...</td>\n",
              "      <td>Elyse Wanshel</td>\n",
              "      <td>2022-09-23</td>\n",
              "    </tr>\n",
              "    <tr>\n",
              "      <th>3</th>\n",
              "      <td>https://www.huffpost.com/entry/funniest-parent...</td>\n",
              "      <td>The Funniest Tweets From Parents This Week (Se...</td>\n",
              "      <td>PARENTING</td>\n",
              "      <td>\"Accidentally put grown-up toothpaste on my to...</td>\n",
              "      <td>Caroline Bologna</td>\n",
              "      <td>2022-09-23</td>\n",
              "    </tr>\n",
              "    <tr>\n",
              "      <th>4</th>\n",
              "      <td>https://www.huffpost.com/entry/amy-cooper-lose...</td>\n",
              "      <td>Woman Who Called Cops On Black Bird-Watcher Lo...</td>\n",
              "      <td>U.S. NEWS</td>\n",
              "      <td>Amy Cooper accused investment firm Franklin Te...</td>\n",
              "      <td>Nina Golgowski</td>\n",
              "      <td>2022-09-22</td>\n",
              "    </tr>\n",
              "  </tbody>\n",
              "</table>\n",
              "</div>\n",
              "      <button class=\"colab-df-convert\" onclick=\"convertToInteractive('df-dd7d20fd-4ebe-48fa-9c48-d370e38307a1')\"\n",
              "              title=\"Convert this dataframe to an interactive table.\"\n",
              "              style=\"display:none;\">\n",
              "        \n",
              "  <svg xmlns=\"http://www.w3.org/2000/svg\" height=\"24px\"viewBox=\"0 0 24 24\"\n",
              "       width=\"24px\">\n",
              "    <path d=\"M0 0h24v24H0V0z\" fill=\"none\"/>\n",
              "    <path d=\"M18.56 5.44l.94 2.06.94-2.06 2.06-.94-2.06-.94-.94-2.06-.94 2.06-2.06.94zm-11 1L8.5 8.5l.94-2.06 2.06-.94-2.06-.94L8.5 2.5l-.94 2.06-2.06.94zm10 10l.94 2.06.94-2.06 2.06-.94-2.06-.94-.94-2.06-.94 2.06-2.06.94z\"/><path d=\"M17.41 7.96l-1.37-1.37c-.4-.4-.92-.59-1.43-.59-.52 0-1.04.2-1.43.59L10.3 9.45l-7.72 7.72c-.78.78-.78 2.05 0 2.83L4 21.41c.39.39.9.59 1.41.59.51 0 1.02-.2 1.41-.59l7.78-7.78 2.81-2.81c.8-.78.8-2.07 0-2.86zM5.41 20L4 18.59l7.72-7.72 1.47 1.35L5.41 20z\"/>\n",
              "  </svg>\n",
              "      </button>\n",
              "      \n",
              "  <style>\n",
              "    .colab-df-container {\n",
              "      display:flex;\n",
              "      flex-wrap:wrap;\n",
              "      gap: 12px;\n",
              "    }\n",
              "\n",
              "    .colab-df-convert {\n",
              "      background-color: #E8F0FE;\n",
              "      border: none;\n",
              "      border-radius: 50%;\n",
              "      cursor: pointer;\n",
              "      display: none;\n",
              "      fill: #1967D2;\n",
              "      height: 32px;\n",
              "      padding: 0 0 0 0;\n",
              "      width: 32px;\n",
              "    }\n",
              "\n",
              "    .colab-df-convert:hover {\n",
              "      background-color: #E2EBFA;\n",
              "      box-shadow: 0px 1px 2px rgba(60, 64, 67, 0.3), 0px 1px 3px 1px rgba(60, 64, 67, 0.15);\n",
              "      fill: #174EA6;\n",
              "    }\n",
              "\n",
              "    [theme=dark] .colab-df-convert {\n",
              "      background-color: #3B4455;\n",
              "      fill: #D2E3FC;\n",
              "    }\n",
              "\n",
              "    [theme=dark] .colab-df-convert:hover {\n",
              "      background-color: #434B5C;\n",
              "      box-shadow: 0px 1px 3px 1px rgba(0, 0, 0, 0.15);\n",
              "      filter: drop-shadow(0px 1px 2px rgba(0, 0, 0, 0.3));\n",
              "      fill: #FFFFFF;\n",
              "    }\n",
              "  </style>\n",
              "\n",
              "      <script>\n",
              "        const buttonEl =\n",
              "          document.querySelector('#df-dd7d20fd-4ebe-48fa-9c48-d370e38307a1 button.colab-df-convert');\n",
              "        buttonEl.style.display =\n",
              "          google.colab.kernel.accessAllowed ? 'block' : 'none';\n",
              "\n",
              "        async function convertToInteractive(key) {\n",
              "          const element = document.querySelector('#df-dd7d20fd-4ebe-48fa-9c48-d370e38307a1');\n",
              "          const dataTable =\n",
              "            await google.colab.kernel.invokeFunction('convertToInteractive',\n",
              "                                                     [key], {});\n",
              "          if (!dataTable) return;\n",
              "\n",
              "          const docLinkHtml = 'Like what you see? Visit the ' +\n",
              "            '<a target=\"_blank\" href=https://colab.research.google.com/notebooks/data_table.ipynb>data table notebook</a>'\n",
              "            + ' to learn more about interactive tables.';\n",
              "          element.innerHTML = '';\n",
              "          dataTable['output_type'] = 'display_data';\n",
              "          await google.colab.output.renderOutput(dataTable, element);\n",
              "          const docLink = document.createElement('div');\n",
              "          docLink.innerHTML = docLinkHtml;\n",
              "          element.appendChild(docLink);\n",
              "        }\n",
              "      </script>\n",
              "    </div>\n",
              "  </div>\n",
              "  "
            ]
          },
          "metadata": {},
          "execution_count": 3
        }
      ],
      "source": [
        "from google.colab import drive\n",
        "drive.mount('/content/drive')\n",
        "df = pd.read_json('drive/MyDrive/ColabNotebooks/News_Category_Dataset_v3.json',lines=True)\n",
        "df.head()"
      ]
    },
    {
      "cell_type": "markdown",
      "id": "8fe05574",
      "metadata": {
        "id": "8fe05574"
      },
      "source": [
        "### PREPROCESSING THE DATA"
      ]
    },
    {
      "cell_type": "code",
      "execution_count": null,
      "id": "0b1a2aec",
      "metadata": {
        "colab": {
          "base_uri": "https://localhost:8080/",
          "height": 294
        },
        "id": "0b1a2aec",
        "outputId": "b925b627-db64-440f-f536-861ad891fec7"
      },
      "outputs": [
        {
          "output_type": "stream",
          "name": "stderr",
          "text": [
            "<ipython-input-4-ea8415b8a3ee>:1: FutureWarning: Treating datetime data as categorical rather than numeric in `.describe` is deprecated and will be removed in a future version of pandas. Specify `datetime_is_numeric=True` to silence this warning and adopt the future behavior now.\n",
            "  df.describe()\n"
          ]
        },
        {
          "output_type": "execute_result",
          "data": {
            "text/plain": [
              "                                                     link        headline  \\\n",
              "count                                              209527          209527   \n",
              "unique                                             209486          207996   \n",
              "top     https://www.huffingtonpost.comhttps://www.wash...  Sunday Roundup   \n",
              "freq                                                    2              90   \n",
              "first                                                 NaN             NaN   \n",
              "last                                                  NaN             NaN   \n",
              "\n",
              "        category short_description authors                 date  \n",
              "count     209527            209527  209527               209527  \n",
              "unique        42            187022   29169                 3890  \n",
              "top     POLITICS                            2014-03-25 00:00:00  \n",
              "freq       35602             19712   37418                  100  \n",
              "first        NaN               NaN     NaN  2012-01-28 00:00:00  \n",
              "last         NaN               NaN     NaN  2022-09-23 00:00:00  "
            ],
            "text/html": [
              "\n",
              "  <div id=\"df-b15f73bf-bee9-4d7d-84e3-cf3040289be8\">\n",
              "    <div class=\"colab-df-container\">\n",
              "      <div>\n",
              "<style scoped>\n",
              "    .dataframe tbody tr th:only-of-type {\n",
              "        vertical-align: middle;\n",
              "    }\n",
              "\n",
              "    .dataframe tbody tr th {\n",
              "        vertical-align: top;\n",
              "    }\n",
              "\n",
              "    .dataframe thead th {\n",
              "        text-align: right;\n",
              "    }\n",
              "</style>\n",
              "<table border=\"1\" class=\"dataframe\">\n",
              "  <thead>\n",
              "    <tr style=\"text-align: right;\">\n",
              "      <th></th>\n",
              "      <th>link</th>\n",
              "      <th>headline</th>\n",
              "      <th>category</th>\n",
              "      <th>short_description</th>\n",
              "      <th>authors</th>\n",
              "      <th>date</th>\n",
              "    </tr>\n",
              "  </thead>\n",
              "  <tbody>\n",
              "    <tr>\n",
              "      <th>count</th>\n",
              "      <td>209527</td>\n",
              "      <td>209527</td>\n",
              "      <td>209527</td>\n",
              "      <td>209527</td>\n",
              "      <td>209527</td>\n",
              "      <td>209527</td>\n",
              "    </tr>\n",
              "    <tr>\n",
              "      <th>unique</th>\n",
              "      <td>209486</td>\n",
              "      <td>207996</td>\n",
              "      <td>42</td>\n",
              "      <td>187022</td>\n",
              "      <td>29169</td>\n",
              "      <td>3890</td>\n",
              "    </tr>\n",
              "    <tr>\n",
              "      <th>top</th>\n",
              "      <td>https://www.huffingtonpost.comhttps://www.wash...</td>\n",
              "      <td>Sunday Roundup</td>\n",
              "      <td>POLITICS</td>\n",
              "      <td></td>\n",
              "      <td></td>\n",
              "      <td>2014-03-25 00:00:00</td>\n",
              "    </tr>\n",
              "    <tr>\n",
              "      <th>freq</th>\n",
              "      <td>2</td>\n",
              "      <td>90</td>\n",
              "      <td>35602</td>\n",
              "      <td>19712</td>\n",
              "      <td>37418</td>\n",
              "      <td>100</td>\n",
              "    </tr>\n",
              "    <tr>\n",
              "      <th>first</th>\n",
              "      <td>NaN</td>\n",
              "      <td>NaN</td>\n",
              "      <td>NaN</td>\n",
              "      <td>NaN</td>\n",
              "      <td>NaN</td>\n",
              "      <td>2012-01-28 00:00:00</td>\n",
              "    </tr>\n",
              "    <tr>\n",
              "      <th>last</th>\n",
              "      <td>NaN</td>\n",
              "      <td>NaN</td>\n",
              "      <td>NaN</td>\n",
              "      <td>NaN</td>\n",
              "      <td>NaN</td>\n",
              "      <td>2022-09-23 00:00:00</td>\n",
              "    </tr>\n",
              "  </tbody>\n",
              "</table>\n",
              "</div>\n",
              "      <button class=\"colab-df-convert\" onclick=\"convertToInteractive('df-b15f73bf-bee9-4d7d-84e3-cf3040289be8')\"\n",
              "              title=\"Convert this dataframe to an interactive table.\"\n",
              "              style=\"display:none;\">\n",
              "        \n",
              "  <svg xmlns=\"http://www.w3.org/2000/svg\" height=\"24px\"viewBox=\"0 0 24 24\"\n",
              "       width=\"24px\">\n",
              "    <path d=\"M0 0h24v24H0V0z\" fill=\"none\"/>\n",
              "    <path d=\"M18.56 5.44l.94 2.06.94-2.06 2.06-.94-2.06-.94-.94-2.06-.94 2.06-2.06.94zm-11 1L8.5 8.5l.94-2.06 2.06-.94-2.06-.94L8.5 2.5l-.94 2.06-2.06.94zm10 10l.94 2.06.94-2.06 2.06-.94-2.06-.94-.94-2.06-.94 2.06-2.06.94z\"/><path d=\"M17.41 7.96l-1.37-1.37c-.4-.4-.92-.59-1.43-.59-.52 0-1.04.2-1.43.59L10.3 9.45l-7.72 7.72c-.78.78-.78 2.05 0 2.83L4 21.41c.39.39.9.59 1.41.59.51 0 1.02-.2 1.41-.59l7.78-7.78 2.81-2.81c.8-.78.8-2.07 0-2.86zM5.41 20L4 18.59l7.72-7.72 1.47 1.35L5.41 20z\"/>\n",
              "  </svg>\n",
              "      </button>\n",
              "      \n",
              "  <style>\n",
              "    .colab-df-container {\n",
              "      display:flex;\n",
              "      flex-wrap:wrap;\n",
              "      gap: 12px;\n",
              "    }\n",
              "\n",
              "    .colab-df-convert {\n",
              "      background-color: #E8F0FE;\n",
              "      border: none;\n",
              "      border-radius: 50%;\n",
              "      cursor: pointer;\n",
              "      display: none;\n",
              "      fill: #1967D2;\n",
              "      height: 32px;\n",
              "      padding: 0 0 0 0;\n",
              "      width: 32px;\n",
              "    }\n",
              "\n",
              "    .colab-df-convert:hover {\n",
              "      background-color: #E2EBFA;\n",
              "      box-shadow: 0px 1px 2px rgba(60, 64, 67, 0.3), 0px 1px 3px 1px rgba(60, 64, 67, 0.15);\n",
              "      fill: #174EA6;\n",
              "    }\n",
              "\n",
              "    [theme=dark] .colab-df-convert {\n",
              "      background-color: #3B4455;\n",
              "      fill: #D2E3FC;\n",
              "    }\n",
              "\n",
              "    [theme=dark] .colab-df-convert:hover {\n",
              "      background-color: #434B5C;\n",
              "      box-shadow: 0px 1px 3px 1px rgba(0, 0, 0, 0.15);\n",
              "      filter: drop-shadow(0px 1px 2px rgba(0, 0, 0, 0.3));\n",
              "      fill: #FFFFFF;\n",
              "    }\n",
              "  </style>\n",
              "\n",
              "      <script>\n",
              "        const buttonEl =\n",
              "          document.querySelector('#df-b15f73bf-bee9-4d7d-84e3-cf3040289be8 button.colab-df-convert');\n",
              "        buttonEl.style.display =\n",
              "          google.colab.kernel.accessAllowed ? 'block' : 'none';\n",
              "\n",
              "        async function convertToInteractive(key) {\n",
              "          const element = document.querySelector('#df-b15f73bf-bee9-4d7d-84e3-cf3040289be8');\n",
              "          const dataTable =\n",
              "            await google.colab.kernel.invokeFunction('convertToInteractive',\n",
              "                                                     [key], {});\n",
              "          if (!dataTable) return;\n",
              "\n",
              "          const docLinkHtml = 'Like what you see? Visit the ' +\n",
              "            '<a target=\"_blank\" href=https://colab.research.google.com/notebooks/data_table.ipynb>data table notebook</a>'\n",
              "            + ' to learn more about interactive tables.';\n",
              "          element.innerHTML = '';\n",
              "          dataTable['output_type'] = 'display_data';\n",
              "          await google.colab.output.renderOutput(dataTable, element);\n",
              "          const docLink = document.createElement('div');\n",
              "          docLink.innerHTML = docLinkHtml;\n",
              "          element.appendChild(docLink);\n",
              "        }\n",
              "      </script>\n",
              "    </div>\n",
              "  </div>\n",
              "  "
            ]
          },
          "metadata": {},
          "execution_count": 4
        }
      ],
      "source": [
        "df.describe()"
      ]
    },
    {
      "cell_type": "code",
      "source": [
        "df = df[df.category != 'U.S. NEWS']"
      ],
      "metadata": {
        "id": "kfiFWTGiK3VA"
      },
      "id": "kfiFWTGiK3VA",
      "execution_count": null,
      "outputs": []
    },
    {
      "cell_type": "code",
      "execution_count": null,
      "id": "d488df28",
      "metadata": {
        "colab": {
          "base_uri": "https://localhost:8080/"
        },
        "id": "d488df28",
        "outputId": "47325d4a-d7e4-4775-dda2-1f423b93bf0f"
      },
      "outputs": [
        {
          "output_type": "execute_result",
          "data": {
            "text/plain": [
              "POLITICS          35602\n",
              "WELLNESS          17945\n",
              "ENTERTAINMENT     17362\n",
              "TRAVEL             9900\n",
              "STYLE & BEAUTY     9814\n",
              "PARENTING          8791\n",
              "HEALTHY LIVING     6694\n",
              "QUEER VOICES       6347\n",
              "FOOD & DRINK       6340\n",
              "BUSINESS           5992\n",
              "COMEDY             5400\n",
              "SPORTS             5077\n",
              "BLACK VOICES       4583\n",
              "HOME & LIVING      4320\n",
              "PARENTS            3955\n",
              "THE WORLDPOST      3664\n",
              "WEDDINGS           3653\n",
              "WOMEN              3572\n",
              "CRIME              3562\n",
              "IMPACT             3484\n",
              "DIVORCE            3426\n",
              "WORLD NEWS         3299\n",
              "MEDIA              2944\n",
              "WEIRD NEWS         2777\n",
              "GREEN              2622\n",
              "WORLDPOST          2579\n",
              "RELIGION           2577\n",
              "STYLE              2254\n",
              "SCIENCE            2206\n",
              "TECH               2104\n",
              "TASTE              2096\n",
              "MONEY              1756\n",
              "ARTS               1509\n",
              "ENVIRONMENT        1444\n",
              "FIFTY              1401\n",
              "GOOD NEWS          1398\n",
              "ARTS & CULTURE     1339\n",
              "COLLEGE            1144\n",
              "LATINO VOICES      1130\n",
              "CULTURE & ARTS     1074\n",
              "EDUCATION          1014\n",
              "Name: category, dtype: int64"
            ]
          },
          "metadata": {},
          "execution_count": 6
        }
      ],
      "source": [
        "df['category'].value_counts()"
      ]
    },
    {
      "cell_type": "code",
      "execution_count": null,
      "id": "19176dd3",
      "metadata": {
        "colab": {
          "base_uri": "https://localhost:8080/"
        },
        "id": "19176dd3",
        "outputId": "36dfe41f-d00d-487a-f806-c54f2e379d2b"
      },
      "outputs": [
        {
          "output_type": "execute_result",
          "data": {
            "text/plain": [
              "1014"
            ]
          },
          "metadata": {},
          "execution_count": 7
        }
      ],
      "source": [
        "min(df['category'].value_counts())"
      ]
    },
    {
      "cell_type": "markdown",
      "id": "647ba6df",
      "metadata": {
        "id": "647ba6df"
      },
      "source": [
        "Every category has more than 1000 examples"
      ]
    },
    {
      "cell_type": "code",
      "execution_count": null,
      "id": "00868dab",
      "metadata": {
        "colab": {
          "base_uri": "https://localhost:8080/"
        },
        "id": "00868dab",
        "outputId": "53939606-5677-4bc3-a558-d3096524989e"
      },
      "outputs": [
        {
          "output_type": "execute_result",
          "data": {
            "text/plain": [
              "41"
            ]
          },
          "metadata": {},
          "execution_count": 8
        }
      ],
      "source": [
        "# store the total number of categories\n",
        "\n",
        "num_labels = len(df['category'].unique())\n",
        "num_labels"
      ]
    },
    {
      "cell_type": "code",
      "execution_count": null,
      "id": "5211fee3",
      "metadata": {
        "colab": {
          "base_uri": "https://localhost:8080/",
          "height": 252,
          "referenced_widgets": [
            "b28767dbc9924135b030647bf955cd92",
            "1a198292092549179848e0b3863bbd56",
            "e9b2472a0edd4aaea2461d29bc19177c",
            "a384e7d1b6d84523992c65acbe39a8a4",
            "b906038ca77b4852b302c698fa93e459",
            "a51df2e02725424c92a67b42ebbab75d",
            "2e0d9b7ff2694fc0a7a74a5a543af1da",
            "2e132032a0c547eb945ca4d2e4ccd576",
            "d8763f30b5394823b9f30c84fc506dd8",
            "e110f8d60b7946dc96b22d6a58e69f59",
            "bf041f5e00bf46239b7ff4ec617a24cc",
            "faa76a72ba4344dca3f81049536786c9",
            "710694eafd30467ebe01dbbf82022ee6",
            "e871fc488970469ca921c6bf9237a683",
            "b13c2a142d9c4fd09537e62cc8968a52",
            "4395cf7fdd4f4d41921edcc16152899f",
            "992bc2ee851a426a8c72dc31ce75b002",
            "d47e65d699754f0499bcfb676c015d49",
            "5b626a68bc0348ed91eea4dd7d046847",
            "a31a3b4fca7d4c898ff3a149d25f0d63",
            "f3a70f702a0449a4bd83bda2f276c5f5",
            "bf9c8ea479ba475aa0c21e2dc0408320",
            "d363d04d35184afea10210a2f22e3783",
            "798df4d54a1f4edfa145614e93e4c2eb",
            "e2c9acc3b0d14aa7a99af86a45a07089",
            "b99e9599f7a04a97a51e94cc9f52fa9b",
            "b0d8106cf2eb481f91dbbce9d1ee78ae",
            "cb2383c06e2246cba2cf636ace2b8d1b",
            "2946cafbd4a945f280c703bed3ff7972",
            "5bec231504b1499093ecfb3089ab00dd",
            "65e9e1ff9965414d9e61e9360066908a",
            "3d29538739874478b2c1dde6c461e693",
            "6d41e2494463405b83e11cea79080199",
            "c7ce2593cf204046a5e439284bac4946",
            "503cc42fdfb44520a35f65b535ed6f56",
            "3a9c435121be47b39a069b408ec0df63",
            "d574b968420440ec8a74953cca4a44f1",
            "ba2208e7cff648de90f4f89ac9996c42",
            "efa59e71bc1a48d6b6f922cbc54582a8",
            "3beaa29ce18343c6b8abf19f7549c8b7",
            "ccdb633a374d49aea35840c82f7d180b",
            "d1a0c18c44ff4548a949a9e4e9cc1ca9",
            "9bd837175ac8403da80af621b834a3ef",
            "76c9e8ed4aad45e09a5308e985ec0096",
            "20cef7556f5f4e61a023c4bb079c0e2a",
            "4d8fac97cf13414893b76a3e6abf700a",
            "81f07ec89eae4e8aa932c7c22b21425c",
            "c6bbc6a9861141e1b705627ff483f5e0",
            "6d81418b8e804292b7c3677589af4e25",
            "d15954b01cce4f6f9205da1df3e08a7f",
            "20facb3fc2e849ad9e66014e502b7faa",
            "918797a5f7a6444a8f00109d8fcfd1f7",
            "d471bccd585f4637a57715aff4ff4efa",
            "831b0841615349309688b56573d25b17",
            "2e3d1679974b42cfa4f0315a565ed66d"
          ]
        },
        "id": "5211fee3",
        "outputId": "3d97c3c0-be6b-423d-de74-e4fdaaf7ce29"
      },
      "outputs": [
        {
          "output_type": "display_data",
          "data": {
            "text/plain": [
              "Downloading (…)lve/main/config.json:   0%|          | 0.00/570 [00:00<?, ?B/s]"
            ],
            "application/vnd.jupyter.widget-view+json": {
              "version_major": 2,
              "version_minor": 0,
              "model_id": "b28767dbc9924135b030647bf955cd92"
            }
          },
          "metadata": {}
        },
        {
          "output_type": "display_data",
          "data": {
            "text/plain": [
              "Downloading pytorch_model.bin:   0%|          | 0.00/440M [00:00<?, ?B/s]"
            ],
            "application/vnd.jupyter.widget-view+json": {
              "version_major": 2,
              "version_minor": 0,
              "model_id": "faa76a72ba4344dca3f81049536786c9"
            }
          },
          "metadata": {}
        },
        {
          "output_type": "stream",
          "name": "stderr",
          "text": [
            "Some weights of the model checkpoint at bert-base-uncased were not used when initializing BertModel: ['cls.predictions.bias', 'cls.seq_relationship.bias', 'cls.predictions.decoder.weight', 'cls.seq_relationship.weight', 'cls.predictions.transform.LayerNorm.weight', 'cls.predictions.transform.LayerNorm.bias', 'cls.predictions.transform.dense.bias', 'cls.predictions.transform.dense.weight']\n",
            "- This IS expected if you are initializing BertModel from the checkpoint of a model trained on another task or with another architecture (e.g. initializing a BertForSequenceClassification model from a BertForPreTraining model).\n",
            "- This IS NOT expected if you are initializing BertModel from the checkpoint of a model that you expect to be exactly identical (initializing a BertForSequenceClassification model from a BertForSequenceClassification model).\n"
          ]
        },
        {
          "output_type": "display_data",
          "data": {
            "text/plain": [
              "Downloading (…)okenizer_config.json:   0%|          | 0.00/28.0 [00:00<?, ?B/s]"
            ],
            "application/vnd.jupyter.widget-view+json": {
              "version_major": 2,
              "version_minor": 0,
              "model_id": "d363d04d35184afea10210a2f22e3783"
            }
          },
          "metadata": {}
        },
        {
          "output_type": "display_data",
          "data": {
            "text/plain": [
              "Downloading (…)solve/main/vocab.txt:   0%|          | 0.00/232k [00:00<?, ?B/s]"
            ],
            "application/vnd.jupyter.widget-view+json": {
              "version_major": 2,
              "version_minor": 0,
              "model_id": "c7ce2593cf204046a5e439284bac4946"
            }
          },
          "metadata": {}
        },
        {
          "output_type": "display_data",
          "data": {
            "text/plain": [
              "Downloading (…)/main/tokenizer.json:   0%|          | 0.00/466k [00:00<?, ?B/s]"
            ],
            "application/vnd.jupyter.widget-view+json": {
              "version_major": 2,
              "version_minor": 0,
              "model_id": "20cef7556f5f4e61a023c4bb079c0e2a"
            }
          },
          "metadata": {}
        }
      ],
      "source": [
        "#import bert model and tokenizer\n",
        "\n",
        "bert = transformers.AutoModel.from_pretrained('bert-base-uncased')\n",
        "tokenizer = transformers.BertTokenizerFast.from_pretrained('bert-base-uncased')"
      ]
    },
    {
      "cell_type": "markdown",
      "id": "41158e9c",
      "metadata": {
        "id": "41158e9c"
      },
      "source": [
        "We use the headline and short_description columns as our features. \n",
        "To get a better understanding of the sequence lengths we concatenate out feature strings and plot their lengths "
      ]
    },
    {
      "cell_type": "code",
      "execution_count": null,
      "id": "49745286",
      "metadata": {
        "colab": {
          "base_uri": "https://localhost:8080/",
          "height": 283
        },
        "id": "49745286",
        "outputId": "81b17e5a-869b-439b-ae9a-82ad6c814037"
      },
      "outputs": [
        {
          "output_type": "execute_result",
          "data": {
            "text/plain": [
              "<AxesSubplot:>"
            ]
          },
          "metadata": {},
          "execution_count": 10
        },
        {
          "output_type": "display_data",
          "data": {
            "text/plain": [
              "<Figure size 432x288 with 1 Axes>"
            ],
            "image/png": "[encoded data removed]"
          },
          "metadata": {
            "needs_background": "light"
          }
        }
      ],
      "source": [
        "seq = df['headline']\n",
        "seq_len = pd.Series([len(x.split()) for x in seq])\n",
        "seq_len.hist(bins=30)"
      ]
    },
    {
      "cell_type": "markdown",
      "id": "d81fac3c",
      "metadata": {
        "id": "d81fac3c"
      },
      "source": [
        "We choose 50 as our max seq length from the plot"
      ]
    },
    {
      "cell_type": "code",
      "execution_count": null,
      "id": "AOXJMMyqkZtQ",
      "metadata": {
        "id": "AOXJMMyqkZtQ",
        "colab": {
          "base_uri": "https://localhost:8080/"
        },
        "outputId": "569fc7f0-2d90-486e-93cd-673793bca0ef"
      },
      "outputs": [
        {
          "output_type": "execute_result",
          "data": {
            "text/plain": [
              "44"
            ]
          },
          "metadata": {},
          "execution_count": 13
        }
      ],
      "source": [
        "max(seq_len)"
      ]
    },
    {
      "cell_type": "code",
      "source": [
        "max_seq_len = 50"
      ],
      "metadata": {
        "id": "19JPI_GHYraq"
      },
      "id": "19JPI_GHYraq",
      "execution_count": null,
      "outputs": []
    },
    {
      "cell_type": "code",
      "source": [
        "df['headline'] = df['headline'].str.replace('/[.,\\/#!$%\\^&\\*;:{}=\\-_`~()]/g','',regex=True)"
      ],
      "metadata": {
        "id": "1cKAD8gJaZdD"
      },
      "id": "1cKAD8gJaZdD",
      "execution_count": null,
      "outputs": []
    },
    {
      "cell_type": "code",
      "execution_count": null,
      "id": "2c195235",
      "metadata": {
        "id": "2c195235"
      },
      "outputs": [],
      "source": [
        "#split dataset 4:1 for training and testing\n",
        " \n",
        "train_x, test_x, train_y, test_y = train_test_split(df['headline'], df['category'], test_size=0.2, stratify=df['category'])"
      ]
    },
    {
      "cell_type": "code",
      "execution_count": null,
      "id": "507f76e6",
      "metadata": {
        "id": "507f76e6"
      },
      "outputs": [],
      "source": [
        "#encoding training and testing labels \n",
        "\n",
        "le = LabelEncoder()\n",
        "le.fit(df['category'])\n",
        "train_y = le.transform(train_y)\n",
        "test_y = le.transform(test_y)"
      ]
    },
    {
      "cell_type": "code",
      "execution_count": null,
      "id": "3f0faa77",
      "metadata": {
        "colab": {
          "base_uri": "https://localhost:8080/"
        },
        "id": "3f0faa77",
        "outputId": "73be46db-0bcb-47ee-8965-0b332db2de46"
      },
      "outputs": [
        {
          "output_type": "stream",
          "name": "stderr",
          "text": [
            "/usr/local/lib/python3.9/dist-packages/transformers/tokenization_utils_base.py:2339: FutureWarning: The `pad_to_max_length` argument is deprecated and will be removed in a future version, use `padding=True` or `padding='longest'` to pad to the longest sequence in the batch, or use `padding='max_length'` to pad to a max length. In this case, you can give a specific length with `max_length` (e.g. `max_length=45`) or leave max_length to None to pad to the maximal input size of the model (e.g. 512 for Bert).\n",
            "  warnings.warn(\n"
          ]
        }
      ],
      "source": [
        "#tokenize train batch and test batch\n",
        "\n",
        "test_tokens = tokenizer.batch_encode_plus(\n",
        "    list(test_x.values),\n",
        "    max_length = max_seq_len,\n",
        "    pad_to_max_length = True,\n",
        "    truncation=True,\n",
        "    return_token_type_ids = False,\n",
        "    return_tensors = 'pt'\n",
        ")\n",
        "train_tokens = tokenizer.batch_encode_plus(\n",
        "    list(train_x.values),\n",
        "    max_length = max_seq_len,\n",
        "    pad_to_max_length = True,\n",
        "    truncation=True,\n",
        "    return_token_type_ids = False,\n",
        "    return_tensors = 'pt'\n",
        ")"
      ]
    },
    {
      "cell_type": "markdown",
      "id": "12a5993b",
      "metadata": {
        "id": "12a5993b"
      },
      "source": [
        "### FINE TUNING"
      ]
    },
    {
      "cell_type": "code",
      "execution_count": null,
      "id": "JhCEJ3GopGZK",
      "metadata": {
        "id": "JhCEJ3GopGZK"
      },
      "outputs": [],
      "source": [
        "#use gpu for training if available\n",
        "\n",
        "device = 'cuda' if torch.cuda.is_available() else 'cpu'"
      ]
    },
    {
      "cell_type": "code",
      "execution_count": null,
      "id": "b51aa2ef",
      "metadata": {
        "id": "b51aa2ef"
      },
      "outputs": [],
      "source": [
        "#using one hot encoding for multiple classes\n",
        "\n",
        "train_labels = torch.nn.functional.one_hot(torch.tensor(train_y,device=device).to(torch.int64),num_classes=num_labels)\n",
        "test_labels = torch.nn.functional.one_hot(torch.tensor(test_y,device=device).to(torch.int64),num_classes=num_labels)"
      ]
    },
    {
      "cell_type": "code",
      "execution_count": null,
      "id": "3d78b282",
      "metadata": {
        "colab": {
          "base_uri": "https://localhost:8080/",
          "height": 719
        },
        "id": "3d78b282",
        "outputId": "ec2e8fe5-49a2-44a7-8399-ada44bb45ab4"
      },
      "outputs": [
        {
          "output_type": "stream",
          "name": "stderr",
          "text": [
            "<ipython-input-48-1de3c01bd4f1>:3: UserWarning: FixedFormatter should only be used together with FixedLocator\n",
            "  bar_plot.set_xticklabels(df['category'].unique(), rotation=90)\n"
          ]
        },
        {
          "output_type": "display_data",
          "data": {
            "text/plain": [
              "<Figure size 1440x720 with 1 Axes>"
            ],
            "image/png": "[encoded data removed]"
          },
          "metadata": {
            "needs_background": "light"
          }
        }
      ],
      "source": [
        "plt.figure(figsize=(20,10))\n",
        "bar_plot = sns.histplot(df['category'], kde=True)\n",
        "bar_plot.set_xticklabels(df['category'].unique(), rotation=90)\n",
        "plt.show()"
      ]
    },
    {
      "cell_type": "markdown",
      "id": "702bc589",
      "metadata": {
        "id": "702bc589"
      },
      "source": [
        "As our label distribution is a bit skewed its best to use class weights in out loss function "
      ]
    },
    {
      "cell_type": "code",
      "execution_count": null,
      "id": "RjvYtbb3rJ60",
      "metadata": {
        "colab": {
          "base_uri": "https://localhost:8080/"
        },
        "id": "RjvYtbb3rJ60",
        "outputId": "ef173c27-7a21-485c-e789-2aff16986c0c"
      },
      "outputs": [
        {
          "output_type": "execute_result",
          "data": {
            "text/plain": [
              "tensor([3.3649, 3.7922, 1.1079, 0.8472, 4.4388, 0.9402, 1.4251, 4.7281, 1.4817,\n",
              "        5.0080, 0.2924, 3.5164, 3.6231, 0.8008, 3.6328, 1.9359, 0.7584, 1.1752,\n",
              "        1.4573, 4.4928, 1.7246, 2.8907, 0.5775, 1.2836, 0.1426, 0.7998, 1.9697,\n",
              "        2.3011, 0.9999, 2.2526, 0.5173, 2.4219, 2.4132, 1.3857, 0.5128, 1.3900,\n",
              "        1.8278, 0.2829, 1.4211, 1.5390, 1.9687], dtype=torch.float64)"
            ]
          },
          "metadata": {},
          "execution_count": 49
        }
      ],
      "source": [
        "from sklearn.utils.class_weight import compute_class_weight\n",
        "\n",
        "class_weights = torch.tensor(compute_class_weight(class_weight='balanced', classes=np.unique(train_y), y=train_y))\n",
        "class_weights"
      ]
    },
    {
      "cell_type": "code",
      "execution_count": null,
      "id": "eb761f32",
      "metadata": {
        "colab": {
          "base_uri": "https://localhost:8080/"
        },
        "id": "eb761f32",
        "outputId": "fb6c8572-b365-41de-e2bd-62036afd3ffc"
      },
      "outputs": [
        {
          "output_type": "execute_result",
          "data": {
            "text/plain": [
              "(torch.Size([166520, 50]), torch.Size([166520, 50]), torch.Size([166520, 41]))"
            ]
          },
          "metadata": {},
          "execution_count": 50
        }
      ],
      "source": [
        "#Preparing text sequences and attention masks \n",
        "\n",
        "train_seq = train_tokens['input_ids'].to(device)\n",
        "train_atten_mask = train_tokens['attention_mask'].to(device)\n",
        "test_seq = test_tokens['input_ids'].to(device)\n",
        "test_atten_mask = test_tokens['attention_mask'].to(device)\n",
        "train_seq.shape, train_atten_mask.shape, train_labels.shape"
      ]
    },
    {
      "cell_type": "code",
      "execution_count": null,
      "id": "027d9a97",
      "metadata": {
        "id": "027d9a97"
      },
      "outputs": [],
      "source": [
        "#making tensor datasets\n",
        "\n",
        "train_dataset = TensorDataset(train_seq, train_atten_mask, train_labels)\n",
        "test_dataset = TensorDataset(test_seq, test_atten_mask, test_labels)"
      ]
    },
    {
      "cell_type": "code",
      "execution_count": null,
      "id": "3d5b9b7d",
      "metadata": {
        "id": "3d5b9b7d"
      },
      "outputs": [],
      "source": [
        "#initializing train and test dataloaders\n",
        "\n",
        "batch_size = 64\n",
        "\n",
        "train_dataloader = DataLoader(train_dataset, shuffle=True, batch_size=batch_size)\n",
        "test_dataloader = DataLoader(test_dataset, shuffle=False, batch_size=batch_size)"
      ]
    },
    {
      "cell_type": "markdown",
      "id": "d6642754",
      "metadata": {
        "id": "d6642754"
      },
      "source": [
        "We define the architecture of our model here.\n",
        "\n",
        "Alongside the pretrained BERT model we will have two fully connected layers with a dropout layer in between and we will use RELU as the activation function.\n",
        "\n",
        "[seq, attn_mask] -> BERT -> fcLinear(768,512) -> RELU -> DropoutLayer -> fcLinear(512, num_labels) -> vector of size (num_labels) with probabilities for predicted class label"
      ]
    },
    {
      "cell_type": "code",
      "execution_count": null,
      "id": "e0dd4ddc",
      "metadata": {
        "id": "e0dd4ddc"
      },
      "outputs": [],
      "source": [
        "class BERT(nn.Module):\n",
        "    def __init__(self, bert, num_labels):\n",
        "        super().__init__()\n",
        "        self.bert = bert\n",
        "        self.fc1 = nn.Linear(768,512)\n",
        "        self.fc2 = nn.Linear(512,num_labels)\n",
        "    def forward(self, seq, mask):\n",
        "        outputs = self.bert(seq, attention_mask=mask)\n",
        "        lhs = outputs[0][:, 0, :]\n",
        "        x = self.fc1(lhs)\n",
        "        x = torch.relu(x)\n",
        "        x = self.fc2(x)\n",
        "        return x"
      ]
    },
    {
      "cell_type": "code",
      "execution_count": null,
      "id": "28264732",
      "metadata": {
        "id": "28264732"
      },
      "outputs": [],
      "source": [
        "#load model in gpu if available\n",
        "\n",
        "model = BERT(bert, num_labels).to(device)"
      ]
    },
    {
      "cell_type": "code",
      "execution_count": null,
      "id": "787b4205",
      "metadata": {
        "id": "787b4205"
      },
      "outputs": [],
      "source": [
        "#We will use AdamW as out optimizer and CrossEntropy loss with our class weights as out loss function\n",
        "\n",
        "from transformers import get_linear_schedule_with_warmup\n",
        "\n",
        "epochs = 6\n",
        "optimizer = optim.AdamW(model.parameters(), lr=2e-5)\n",
        "criterion = nn.CrossEntropyLoss(weight=class_weights.to(device))\n",
        "scheduler = get_linear_schedule_with_warmup(optimizer, num_warmup_steps=0, num_training_steps = epochs*len(train_dataloader))"
      ]
    },
    {
      "cell_type": "code",
      "execution_count": null,
      "id": "ceb4f08f",
      "metadata": {
        "id": "ceb4f08f"
      },
      "outputs": [],
      "source": [
        "def train_step(epoch_no):\n",
        "  model.train()\n",
        "  running_loss = 0.0\n",
        "  total_loss = 0.0\n",
        "  print(f\"Epoch {epoch_no}\\n\"+\"-\"*25)\n",
        "  for step, batch in enumerate(train_dataloader):\n",
        "      seq, mask, label = batch \n",
        "      model.zero_grad()\n",
        "      preds = model(seq, mask)\n",
        "      loss = criterion(preds, label.to(torch.float)) \n",
        "      loss.backward()\n",
        "      nn.utils.clip_grad_norm(model.parameters(), 1.0)\n",
        "      optimizer.step()\n",
        "      scheduler.step()\n",
        "      running_loss += loss.item()\n",
        "      total_loss += loss.item()\n",
        "      if step % 500 == 499:\n",
        "        print(f'[{epoch_no}, {step:5d}] loss: {running_loss / 500:.3f}')\n",
        "        running_loss = 0.0\n",
        "  return total_loss/len(train_dataloader)\n"
      ]
    },
    {
      "cell_type": "code",
      "execution_count": null,
      "id": "wnogibfQ3Owh",
      "metadata": {
        "id": "wnogibfQ3Owh"
      },
      "outputs": [],
      "source": [
        "def eval_step():\n",
        "  model.eval()\n",
        "  total_loss = 0.0\n",
        "  correct_pred = 0\n",
        "  with torch.no_grad():\n",
        "    for batch in test_dataloader:\n",
        "      seq, mask, label = batch\n",
        "      preds = model(seq, mask)\n",
        "      loss = criterion(preds, label.to(torch.float))\n",
        "      total_loss += loss.item()\n",
        "      correct_pred += torch.sum(torch.argmax(model(seq, mask), dim=-1) == torch.argmax(label,dim=-1)).item()\n",
        "  return total_loss/len(test_dataloader), correct_pred/len(test_dataset)*100\n"
      ]
    },
    {
      "cell_type": "code",
      "execution_count": null,
      "id": "n_ejAGI36Ao0",
      "metadata": {
        "colab": {
          "base_uri": "https://localhost:8080/"
        },
        "id": "n_ejAGI36Ao0",
        "outputId": "86caaf16-2266-457b-e3c5-093cac1c62c7"
      },
      "outputs": [
        {
          "metadata": {
            "tags": null
          },
          "name": "stdout",
          "output_type": "stream",
          "text": [
            "Epoch 0\n",
            "-------------------------\n"
          ]
        },
        {
          "metadata": {
            "tags": null
          },
          "name": "stderr",
          "output_type": "stream",
          "text": [
            "<ipython-input-56-e126f08df009>:12: UserWarning: torch.nn.utils.clip_grad_norm is now deprecated in favor of torch.nn.utils.clip_grad_norm_.\n",
            "  nn.utils.clip_grad_norm(model.parameters(), 1.0)\n"
          ]
        },
        {
          "output_type": "stream",
          "name": "stdout",
          "text": [
            "[0,   499] loss: 2.816\n",
            "[0,   999] loss: 1.990\n",
            "[0,  1499] loss: 1.766\n",
            "[0,  1999] loss: 1.686\n",
            "[0,  2499] loss: 1.633\n",
            "Average train loss = 1.9609\n",
            "Average test loss = 1.5402324239308902 accuracy = 54.06\n",
            "Epoch 1\n",
            "-------------------------\n",
            "[1,   499] loss: 1.386\n",
            "[1,   999] loss: 1.354\n",
            "[1,  1499] loss: 1.352\n",
            "[1,  1999] loss: 1.347\n",
            "[1,  2499] loss: 1.330\n",
            "Average train loss = 1.3499\n",
            "Average test loss = 1.4960942523329344 accuracy = 57.08\n",
            "Epoch 2\n",
            "-------------------------\n",
            "[2,   499] loss: 1.095\n",
            "[2,   999] loss: 1.095\n",
            "[2,  1499] loss: 1.081\n",
            "[2,  1999] loss: 1.080\n",
            "[2,  2499] loss: 1.085\n",
            "Average train loss = 1.0861\n",
            "Average test loss = 1.5101779750893742 accuracy = 57.61\n",
            "Epoch 3\n",
            "-------------------------\n",
            "[3,   499] loss: 0.887\n",
            "[3,   999] loss: 0.888\n",
            "[3,  1499] loss: 0.888\n",
            "[3,  1999] loss: 0.885\n",
            "[3,  2499] loss: 0.894\n",
            "Average train loss = 0.8879\n",
            "Average test loss = 1.5803309381485073 accuracy = 57.67\n",
            "Epoch 4\n",
            "-------------------------\n",
            "[4,   499] loss: 0.746\n",
            "[4,   999] loss: 0.740\n",
            "[4,  1499] loss: 0.755\n",
            "[4,  1999] loss: 0.738\n",
            "[4,  2499] loss: 0.748\n",
            "Average train loss = 0.7449\n",
            "Average test loss = 1.6465513635494105 accuracy = 58.56\n",
            "Epoch 5\n",
            "-------------------------\n",
            "[5,   499] loss: 0.652\n",
            "[5,   999] loss: 0.655\n",
            "[5,  1499] loss: 0.659\n",
            "[5,  1999] loss: 0.651\n",
            "[5,  2499] loss: 0.651\n",
            "Average train loss = 0.6536\n",
            "Average test loss = 1.6814294878312153 accuracy = 58.92\n",
            "------------Training finished for 5 epochs--------------\n"
          ]
        }
      ],
      "source": [
        "#training the model\n",
        "\n",
        "eval_metrics = {\n",
        "    \"train_losses\" : [],\n",
        "    \"test_losses\" : []\n",
        "}\n",
        "\n",
        "for epoch in range(epochs):\n",
        "  train_loss = train_step(epoch)\n",
        "  print(f'Average train loss = {train_loss:.4f}')\n",
        "  test_loss, acc = eval_step()\n",
        "  print(f'Average test loss = {test_loss} accuracy = {acc:.2f}')\n",
        "  eval_metrics['train_losses'].append(train_loss)\n",
        "  eval_metrics['test_losses'].append(test_loss)\n",
        "\n",
        "print(f'------------Training finished for {epoch} epochs--------------')"
      ]
    },
    {
      "cell_type": "code",
      "execution_count": null,
      "id": "3RqEF4nVPuXW",
      "metadata": {
        "id": "3RqEF4nVPuXW",
        "colab": {
          "base_uri": "https://localhost:8080/",
          "height": 279
        },
        "outputId": "2c02e046-e154-4322-e73a-89684a303d1b"
      },
      "outputs": [
        {
          "output_type": "display_data",
          "data": {
            "text/plain": [
              "<Figure size 432x288 with 1 Axes>"
            ],
            "image/png": "[encoded data removed]"
          },
          "metadata": {
            "needs_background": "light"
          }
        }
      ],
      "source": [
        "#plot train and test loss \n",
        "\n",
        "plt.plot(eval_metrics['train_losses'], label='train_loss')\n",
        "plt.plot(eval_metrics['test_losses'], label='test_loss')\n",
        "plt.xlabel('epochs')\n",
        "plt.legend(loc='lower right')\n",
        "plt.show()"
      ]
    },
    {
      "cell_type": "code",
      "execution_count": null,
      "id": "NkAztdiFT0bC",
      "metadata": {
        "id": "NkAztdiFT0bC"
      },
      "outputs": [],
      "source": [
        "from sklearn.metrics import classification_report, confusion_matrix"
      ]
    },
    {
      "cell_type": "code",
      "execution_count": null,
      "id": "xcb14iG0V6RQ",
      "metadata": {
        "id": "xcb14iG0V6RQ"
      },
      "outputs": [],
      "source": [
        "#calculating metrics for classification report\n",
        "\n",
        "ground_truth, preds = [], []\n",
        "with torch.no_grad():\n",
        "  for batch in test_dataloader:\n",
        "    test_seq, test_mask, test_labels = batch\n",
        "    predictions = torch.argmax(model(test_seq, test_mask), dim=-1)\n",
        "    preds += predictions.cpu().tolist()\n",
        "    ground_truth += torch.argmax(test_labels, dim=-1).cpu().tolist()"
      ]
    },
    {
      "cell_type": "code",
      "source": [
        "print(classification_report(ground_truth, preds, target_names=df['category'].unique()))"
      ],
      "metadata": {
        "colab": {
          "base_uri": "https://localhost:8080/"
        },
        "id": "tGMzfmTughXq",
        "outputId": "827c96ae-9516-4742-9360-5002cb2762c0"
      },
      "id": "tGMzfmTughXq",
      "execution_count": null,
      "outputs": [
        {
          "output_type": "stream",
          "name": "stdout",
          "text": [
            "                precision    recall  f1-score   support\n",
            "\n",
            "        COMEDY       0.26      0.37      0.31       302\n",
            "     PARENTING       0.18      0.37      0.25       268\n",
            "    WORLD NEWS       0.23      0.40      0.29       917\n",
            "CULTURE & ARTS       0.51      0.31      0.38      1198\n",
            "          TECH       0.27      0.48      0.34       229\n",
            "        SPORTS       0.27      0.47      0.34      1080\n",
            " ENTERTAINMENT       0.43      0.69      0.53       712\n",
            "      POLITICS       0.23      0.49      0.31       215\n",
            "    WEIRD NEWS       0.56      0.65      0.60       685\n",
            "   ENVIRONMENT       0.20      0.51      0.28       203\n",
            "     EDUCATION       0.69      0.46      0.55      3472\n",
            "         CRIME       0.22      0.40      0.28       289\n",
            "       SCIENCE       0.14      0.29      0.19       280\n",
            "      WELLNESS       0.61      0.56      0.59      1268\n",
            "      BUSINESS       0.16      0.46      0.24       280\n",
            "STYLE & BEAUTY       0.29      0.41      0.34       524\n",
            "  FOOD & DRINK       0.33      0.29      0.31      1339\n",
            "         MEDIA       0.66      0.59      0.62       864\n",
            "  QUEER VOICES       0.29      0.24      0.27       697\n",
            " HOME & LIVING       0.18      0.44      0.25       226\n",
            "         WOMEN       0.22      0.57      0.31       589\n",
            "  BLACK VOICES       0.31      0.41      0.35       351\n",
            "        TRAVEL       0.49      0.28      0.36      1758\n",
            "         MONEY       0.23      0.51      0.31       791\n",
            "      RELIGION       0.89      0.45      0.60      7121\n",
            " LATINO VOICES       0.67      0.42      0.52      1269\n",
            "        IMPACT       0.36      0.68      0.47       515\n",
            "      WEDDINGS       0.38      0.58      0.46       441\n",
            "       COLLEGE       0.56      0.69      0.62      1015\n",
            "       PARENTS       0.33      0.44      0.38       451\n",
            "ARTS & CULTURE       0.74      0.65      0.69      1963\n",
            "         STYLE       0.25      0.51      0.33       419\n",
            "         GREEN       0.35      0.49      0.41       421\n",
            "         TASTE       0.42      0.34      0.38       733\n",
            "HEALTHY LIVING       0.73      0.64      0.68      1980\n",
            " THE WORLDPOST       0.61      0.66      0.63       731\n",
            "     GOOD NEWS       0.37      0.28      0.32       555\n",
            "     WORLDPOST       0.71      0.44      0.54      3589\n",
            "         FIFTY       0.31      0.27      0.29       714\n",
            "          ARTS       0.31      0.48      0.38       660\n",
            "       DIVORCE       0.43      0.53      0.47       516\n",
            "\n",
            "      accuracy                           0.47     41630\n",
            "     macro avg       0.40      0.47      0.41     41630\n",
            "  weighted avg       0.57      0.47      0.49     41630\n",
            "\n"
          ]
        }
      ]
    },
    {
      "cell_type": "code",
      "source": [
        "# prepare confusion matrix\n",
        "\n",
        "import seaborn as sns\n",
        "\n",
        "plt.figure(figsize=(20,15), dpi=100)\n",
        "categories = df['category'].unique()\n",
        "ax = sns.heatmap(confusion_matrix(ground_truth, preds),annot=True, fmt='d')\n",
        "ax.set_xlabel('Predicted Category')\n",
        "ax.set_ylabel('Actual Category')\n",
        "ax.xaxis.set_ticklabels(df['category'].unique())\n",
        "ax.yaxis.set_ticklabels(df['category'].unique())\n",
        "plt.xticks(rotation=90)\n",
        "plt.yticks(rotation=0)\n",
        "ax.set_title('Confusion Matrix', fontsize=14)\n",
        "plt.show()"
      ],
      "metadata": {
        "colab": {
          "base_uri": "https://localhost:8080/",
          "height": 936
        },
        "id": "Vf0H8sTkg4wI",
        "outputId": "7996deeb-6757-45ed-986d-44b077157ce7"
      },
      "id": "Vf0H8sTkg4wI",
      "execution_count": null,
      "outputs": [
        {
          "output_type": "display_data",
          "data": {
            "text/plain": [
              "<Figure size 2000x1500 with 2 Axes>"
            ],
            "image/png": "[encoded data removed]"
          },
          "metadata": {
            "needs_background": "light"
          }
        }
      ]
    },
    {
      "cell_type": "code",
      "source": [
        "#define a prediction function \n",
        "def predict(text):\n",
        "  token = tokenizer.encode_plus(text, return_tensors = 'pt')\n",
        "  seq, mask = token['input_ids'], token['attention_mask']\n",
        "  with torch.no_grad():\n",
        "    model.eval()\n",
        "    pred = model(seq.to(device), mask.to(device))\n",
        "    pred_class = torch.argmax(pred, dim = -1)\n",
        "    return df['category'][pred_class.item()]"
      ],
      "metadata": {
        "id": "zoV6hQeOhA7Q"
      },
      "id": "zoV6hQeOhA7Q",
      "execution_count": null,
      "outputs": []
    },
    {
      "cell_type": "code",
      "source": [
        "predict('Will Tory MPs rebel over small boats bill?')"
      ],
      "metadata": {
        "colab": {
          "base_uri": "https://localhost:8080/",
          "height": 35
        },
        "id": "bdTv5oubiZAl",
        "outputId": "70054989-62b4-444f-d719-4d844a57f879"
      },
      "id": "bdTv5oubiZAl",
      "execution_count": null,
      "outputs": [
        {
          "output_type": "execute_result",
          "data": {
            "text/plain": [
              "'POLITICS'"
            ],
            "application/vnd.google.colaboratory.intrinsic+json": {
              "type": "string"
            }
          },
          "metadata": {},
          "execution_count": 35
        }
      ]
    }
  ],
  "metadata": {
    "accelerator": "GPU",
    "colab": {
      "provenance": []
    },
    "gpuClass": "standard",
    "kernelspec": {
      "display_name": "Python 3 (ipykernel)",
      "language": "python",
      "name": "python3"
    },
    "language_info": {
      "codemirror_mode": {
        "name": "ipython",
        "version": 3
      },
      "file_extension": ".py",
      "mimetype": "text/x-python",
      "name": "python",
      "nbconvert_exporter": "python",
      "pygments_lexer": "ipython3",
      "version": "3.10.9"
    },
    "widgets": {
      "application/vnd.jupyter.widget-state+json": {
        "b28767dbc9924135b030647bf955cd92": {
          "model_module": "@jupyter-widgets/controls",
          "model_name": "HBoxModel",
          "model_module_version": "1.5.0",
          "state": {
            "_dom_classes": [],
            "_model_module": "@jupyter-widgets/controls",
            "_model_module_version": "1.5.0",
            "_model_name": "HBoxModel",
            "_view_count": null,
            "_view_module": "@jupyter-widgets/controls",
            "_view_module_version": "1.5.0",
            "_view_name": "HBoxView",
            "box_style": "",
            "children": [
              "IPY_MODEL_1a198292092549179848e0b3863bbd56",
              "IPY_MODEL_e9b2472a0edd4aaea2461d29bc19177c",
              "IPY_MODEL_a384e7d1b6d84523992c65acbe39a8a4"
            ],
            "layout": "IPY_MODEL_b906038ca77b4852b302c698fa93e459"
          }
        },
        "1a198292092549179848e0b3863bbd56": {
          "model_module": "@jupyter-widgets/controls",
          "model_name": "HTMLModel",
          "model_module_version": "1.5.0",
          "state": {
            "_dom_classes": [],
            "_model_module": "@jupyter-widgets/controls",
            "_model_module_version": "1.5.0",
            "_model_name": "HTMLModel",
            "_view_count": null,
            "_view_module": "@jupyter-widgets/controls",
            "_view_module_version": "1.5.0",
            "_view_name": "HTMLView",
            "description": "",
            "description_tooltip": null,
            "layout": "IPY_MODEL_a51df2e02725424c92a67b42ebbab75d",
            "placeholder": "​",
            "style": "IPY_MODEL_2e0d9b7ff2694fc0a7a74a5a543af1da",
            "value": "Downloading (…)lve/main/config.json: 100%"
          }
        },
        "e9b2472a0edd4aaea2461d29bc19177c": {
          "model_module": "@jupyter-widgets/controls",
          "model_name": "FloatProgressModel",
          "model_module_version": "1.5.0",
          "state": {
            "_dom_classes": [],
            "_model_module": "@jupyter-widgets/controls",
            "_model_module_version": "1.5.0",
            "_model_name": "FloatProgressModel",
            "_view_count": null,
            "_view_module": "@jupyter-widgets/controls",
            "_view_module_version": "1.5.0",
            "_view_name": "ProgressView",
            "bar_style": "success",
            "description": "",
            "description_tooltip": null,
            "layout": "IPY_MODEL_2e132032a0c547eb945ca4d2e4ccd576",
            "max": 570,
            "min": 0,
            "orientation": "horizontal",
            "style": "IPY_MODEL_d8763f30b5394823b9f30c84fc506dd8",
            "value": 570
          }
        },
        "a384e7d1b6d84523992c65acbe39a8a4": {
          "model_module": "@jupyter-widgets/controls",
          "model_name": "HTMLModel",
          "model_module_version": "1.5.0",
          "state": {
            "_dom_classes": [],
            "_model_module": "@jupyter-widgets/controls",
            "_model_module_version": "1.5.0",
            "_model_name": "HTMLModel",
            "_view_count": null,
            "_view_module": "@jupyter-widgets/controls",
            "_view_module_version": "1.5.0",
            "_view_name": "HTMLView",
            "description": "",
            "description_tooltip": null,
            "layout": "IPY_MODEL_e110f8d60b7946dc96b22d6a58e69f59",
            "placeholder": "​",
            "style": "IPY_MODEL_bf041f5e00bf46239b7ff4ec617a24cc",
            "value": " 570/570 [00:00&lt;00:00, 19.1kB/s]"
          }
        },
        "b906038ca77b4852b302c698fa93e459": {
          "model_module": "@jupyter-widgets/base",
          "model_name": "LayoutModel",
          "model_module_version": "1.2.0",
          "state": {
            "_model_module": "@jupyter-widgets/base",
            "_model_module_version": "1.2.0",
            "_model_name": "LayoutModel",
            "_view_count": null,
            "_view_module": "@jupyter-widgets/base",
            "_view_module_version": "1.2.0",
            "_view_name": "LayoutView",
            "align_content": null,
            "align_items": null,
            "align_self": null,
            "border": null,
            "bottom": null,
            "display": null,
            "flex": null,
            "flex_flow": null,
            "grid_area": null,
            "grid_auto_columns": null,
            "grid_auto_flow": null,
            "grid_auto_rows": null,
            "grid_column": null,
            "grid_gap": null,
            "grid_row": null,
            "grid_template_areas": null,
            "grid_template_columns": null,
            "grid_template_rows": null,
            "height": null,
            "justify_content": null,
            "justify_items": null,
            "left": null,
            "margin": null,
            "max_height": null,
            "max_width": null,
            "min_height": null,
            "min_width": null,
            "object_fit": null,
            "object_position": null,
            "order": null,
            "overflow": null,
            "overflow_x": null,
            "overflow_y": null,
            "padding": null,
            "right": null,
            "top": null,
            "visibility": null,
            "width": null
          }
        },
        "a51df2e02725424c92a67b42ebbab75d": {
          "model_module": "@jupyter-widgets/base",
          "model_name": "LayoutModel",
          "model_module_version": "1.2.0",
          "state": {
            "_model_module": "@jupyter-widgets/base",
            "_model_module_version": "1.2.0",
            "_model_name": "LayoutModel",
            "_view_count": null,
            "_view_module": "@jupyter-widgets/base",
            "_view_module_version": "1.2.0",
            "_view_name": "LayoutView",
            "align_content": null,
            "align_items": null,
            "align_self": null,
            "border": null,
            "bottom": null,
            "display": null,
            "flex": null,
            "flex_flow": null,
            "grid_area": null,
            "grid_auto_columns": null,
            "grid_auto_flow": null,
            "grid_auto_rows": null,
            "grid_column": null,
            "grid_gap": null,
            "grid_row": null,
            "grid_template_areas": null,
            "grid_template_columns": null,
            "grid_template_rows": null,
            "height": null,
            "justify_content": null,
            "justify_items": null,
            "left": null,
            "margin": null,
            "max_height": null,
            "max_width": null,
            "min_height": null,
            "min_width": null,
            "object_fit": null,
            "object_position": null,
            "order": null,
            "overflow": null,
            "overflow_x": null,
            "overflow_y": null,
            "padding": null,
            "right": null,
            "top": null,
            "visibility": null,
            "width": null
          }
        },
        "2e0d9b7ff2694fc0a7a74a5a543af1da": {
          "model_module": "@jupyter-widgets/controls",
          "model_name": "DescriptionStyleModel",
          "model_module_version": "1.5.0",
          "state": {
            "_model_module": "@jupyter-widgets/controls",
            "_model_module_version": "1.5.0",
            "_model_name": "DescriptionStyleModel",
            "_view_count": null,
            "_view_module": "@jupyter-widgets/base",
            "_view_module_version": "1.2.0",
            "_view_name": "StyleView",
            "description_width": ""
          }
        },
        "2e132032a0c547eb945ca4d2e4ccd576": {
          "model_module": "@jupyter-widgets/base",
          "model_name": "LayoutModel",
          "model_module_version": "1.2.0",
          "state": {
            "_model_module": "@jupyter-widgets/base",
            "_model_module_version": "1.2.0",
            "_model_name": "LayoutModel",
            "_view_count": null,
            "_view_module": "@jupyter-widgets/base",
            "_view_module_version": "1.2.0",
            "_view_name": "LayoutView",
            "align_content": null,
            "align_items": null,
            "align_self": null,
            "border": null,
            "bottom": null,
            "display": null,
            "flex": null,
            "flex_flow": null,
            "grid_area": null,
            "grid_auto_columns": null,
            "grid_auto_flow": null,
            "grid_auto_rows": null,
            "grid_column": null,
            "grid_gap": null,
            "grid_row": null,
            "grid_template_areas": null,
            "grid_template_columns": null,
            "grid_template_rows": null,
            "height": null,
            "justify_content": null,
            "justify_items": null,
            "left": null,
            "margin": null,
            "max_height": null,
            "max_width": null,
            "min_height": null,
            "min_width": null,
            "object_fit": null,
            "object_position": null,
            "order": null,
            "overflow": null,
            "overflow_x": null,
            "overflow_y": null,
            "padding": null,
            "right": null,
            "top": null,
            "visibility": null,
            "width": null
          }
        },
        "d8763f30b5394823b9f30c84fc506dd8": {
          "model_module": "@jupyter-widgets/controls",
          "model_name": "ProgressStyleModel",
          "model_module_version": "1.5.0",
          "state": {
            "_model_module": "@jupyter-widgets/controls",
            "_model_module_version": "1.5.0",
            "_model_name": "ProgressStyleModel",
            "_view_count": null,
            "_view_module": "@jupyter-widgets/base",
            "_view_module_version": "1.2.0",
            "_view_name": "StyleView",
            "bar_color": null,
            "description_width": ""
          }
        },
        "e110f8d60b7946dc96b22d6a58e69f59": {
          "model_module": "@jupyter-widgets/base",
          "model_name": "LayoutModel",
          "model_module_version": "1.2.0",
          "state": {
            "_model_module": "@jupyter-widgets/base",
            "_model_module_version": "1.2.0",
            "_model_name": "LayoutModel",
            "_view_count": null,
            "_view_module": "@jupyter-widgets/base",
            "_view_module_version": "1.2.0",
            "_view_name": "LayoutView",
            "align_content": null,
            "align_items": null,
            "align_self": null,
            "border": null,
            "bottom": null,
            "display": null,
            "flex": null,
            "flex_flow": null,
            "grid_area": null,
            "grid_auto_columns": null,
            "grid_auto_flow": null,
            "grid_auto_rows": null,
            "grid_column": null,
            "grid_gap": null,
            "grid_row": null,
            "grid_template_areas": null,
            "grid_template_columns": null,
            "grid_template_rows": null,
            "height": null,
            "justify_content": null,
            "justify_items": null,
            "left": null,
            "margin": null,
            "max_height": null,
            "max_width": null,
            "min_height": null,
            "min_width": null,
            "object_fit": null,
            "object_position": null,
            "order": null,
            "overflow": null,
            "overflow_x": null,
            "overflow_y": null,
            "padding": null,
            "right": null,
            "top": null,
            "visibility": null,
            "width": null
          }
        },
        "bf041f5e00bf46239b7ff4ec617a24cc": {
          "model_module": "@jupyter-widgets/controls",
          "model_name": "DescriptionStyleModel",
          "model_module_version": "1.5.0",
          "state": {
            "_model_module": "@jupyter-widgets/controls",
            "_model_module_version": "1.5.0",
            "_model_name": "DescriptionStyleModel",
            "_view_count": null,
            "_view_module": "@jupyter-widgets/base",
            "_view_module_version": "1.2.0",
            "_view_name": "StyleView",
            "description_width": ""
          }
        },
        "faa76a72ba4344dca3f81049536786c9": {
          "model_module": "@jupyter-widgets/controls",
          "model_name": "HBoxModel",
          "model_module_version": "1.5.0",
          "state": {
            "_dom_classes": [],
            "_model_module": "@jupyter-widgets/controls",
            "_model_module_version": "1.5.0",
            "_model_name": "HBoxModel",
            "_view_count": null,
            "_view_module": "@jupyter-widgets/controls",
            "_view_module_version": "1.5.0",
            "_view_name": "HBoxView",
            "box_style": "",
            "children": [
              "IPY_MODEL_710694eafd30467ebe01dbbf82022ee6",
              "IPY_MODEL_e871fc488970469ca921c6bf9237a683",
              "IPY_MODEL_b13c2a142d9c4fd09537e62cc8968a52"
            ],
            "layout": "IPY_MODEL_4395cf7fdd4f4d41921edcc16152899f"
          }
        },
        "710694eafd30467ebe01dbbf82022ee6": {
          "model_module": "@jupyter-widgets/controls",
          "model_name": "HTMLModel",
          "model_module_version": "1.5.0",
          "state": {
            "_dom_classes": [],
            "_model_module": "@jupyter-widgets/controls",
            "_model_module_version": "1.5.0",
            "_model_name": "HTMLModel",
            "_view_count": null,
            "_view_module": "@jupyter-widgets/controls",
            "_view_module_version": "1.5.0",
            "_view_name": "HTMLView",
            "description": "",
            "description_tooltip": null,
            "layout": "IPY_MODEL_992bc2ee851a426a8c72dc31ce75b002",
            "placeholder": "​",
            "style": "IPY_MODEL_d47e65d699754f0499bcfb676c015d49",
            "value": "Downloading pytorch_model.bin: 100%"
          }
        },
        "e871fc488970469ca921c6bf9237a683": {
          "model_module": "@jupyter-widgets/controls",
          "model_name": "FloatProgressModel",
          "model_module_version": "1.5.0",
          "state": {
            "_dom_classes": [],
            "_model_module": "@jupyter-widgets/controls",
            "_model_module_version": "1.5.0",
            "_model_name": "FloatProgressModel",
            "_view_count": null,
            "_view_module": "@jupyter-widgets/controls",
            "_view_module_version": "1.5.0",
            "_view_name": "ProgressView",
            "bar_style": "success",
            "description": "",
            "description_tooltip": null,
            "layout": "IPY_MODEL_5b626a68bc0348ed91eea4dd7d046847",
            "max": 440473133,
            "min": 0,
            "orientation": "horizontal",
            "style": "IPY_MODEL_a31a3b4fca7d4c898ff3a149d25f0d63",
            "value": 440473133
          }
        },
        "b13c2a142d9c4fd09537e62cc8968a52": {
          "model_module": "@jupyter-widgets/controls",
          "model_name": "HTMLModel",
          "model_module_version": "1.5.0",
          "state": {
            "_dom_classes": [],
            "_model_module": "@jupyter-widgets/controls",
            "_model_module_version": "1.5.0",
            "_model_name": "HTMLModel",
            "_view_count": null,
            "_view_module": "@jupyter-widgets/controls",
            "_view_module_version": "1.5.0",
            "_view_name": "HTMLView",
            "description": "",
            "description_tooltip": null,
            "layout": "IPY_MODEL_f3a70f702a0449a4bd83bda2f276c5f5",
            "placeholder": "​",
            "style": "IPY_MODEL_bf9c8ea479ba475aa0c21e2dc0408320",
            "value": " 440M/440M [00:01&lt;00:00, 347MB/s]"
          }
        },
        "4395cf7fdd4f4d41921edcc16152899f": {
          "model_module": "@jupyter-widgets/base",
          "model_name": "LayoutModel",
          "model_module_version": "1.2.0",
          "state": {
            "_model_module": "@jupyter-widgets/base",
            "_model_module_version": "1.2.0",
            "_model_name": "LayoutModel",
            "_view_count": null,
            "_view_module": "@jupyter-widgets/base",
            "_view_module_version": "1.2.0",
            "_view_name": "LayoutView",
            "align_content": null,
            "align_items": null,
            "align_self": null,
            "border": null,
            "bottom": null,
            "display": null,
            "flex": null,
            "flex_flow": null,
            "grid_area": null,
            "grid_auto_columns": null,
            "grid_auto_flow": null,
            "grid_auto_rows": null,
            "grid_column": null,
            "grid_gap": null,
            "grid_row": null,
            "grid_template_areas": null,
            "grid_template_columns": null,
            "grid_template_rows": null,
            "height": null,
            "justify_content": null,
            "justify_items": null,
            "left": null,
            "margin": null,
            "max_height": null,
            "max_width": null,
            "min_height": null,
            "min_width": null,
            "object_fit": null,
            "object_position": null,
            "order": null,
            "overflow": null,
            "overflow_x": null,
            "overflow_y": null,
            "padding": null,
            "right": null,
            "top": null,
            "visibility": null,
            "width": null
          }
        },
        "992bc2ee851a426a8c72dc31ce75b002": {
          "model_module": "@jupyter-widgets/base",
          "model_name": "LayoutModel",
          "model_module_version": "1.2.0",
          "state": {
            "_model_module": "@jupyter-widgets/base",
            "_model_module_version": "1.2.0",
            "_model_name": "LayoutModel",
            "_view_count": null,
            "_view_module": "@jupyter-widgets/base",
            "_view_module_version": "1.2.0",
            "_view_name": "LayoutView",
            "align_content": null,
            "align_items": null,
            "align_self": null,
            "border": null,
            "bottom": null,
            "display": null,
            "flex": null,
            "flex_flow": null,
            "grid_area": null,
            "grid_auto_columns": null,
            "grid_auto_flow": null,
            "grid_auto_rows": null,
            "grid_column": null,
            "grid_gap": null,
            "grid_row": null,
            "grid_template_areas": null,
            "grid_template_columns": null,
            "grid_template_rows": null,
            "height": null,
            "justify_content": null,
            "justify_items": null,
            "left": null,
            "margin": null,
            "max_height": null,
            "max_width": null,
            "min_height": null,
            "min_width": null,
            "object_fit": null,
            "object_position": null,
            "order": null,
            "overflow": null,
            "overflow_x": null,
            "overflow_y": null,
            "padding": null,
            "right": null,
            "top": null,
            "visibility": null,
            "width": null
          }
        },
        "d47e65d699754f0499bcfb676c015d49": {
          "model_module": "@jupyter-widgets/controls",
          "model_name": "DescriptionStyleModel",
          "model_module_version": "1.5.0",
          "state": {
            "_model_module": "@jupyter-widgets/controls",
            "_model_module_version": "1.5.0",
            "_model_name": "DescriptionStyleModel",
            "_view_count": null,
            "_view_module": "@jupyter-widgets/base",
            "_view_module_version": "1.2.0",
            "_view_name": "StyleView",
            "description_width": ""
          }
        },
        "5b626a68bc0348ed91eea4dd7d046847": {
          "model_module": "@jupyter-widgets/base",
          "model_name": "LayoutModel",
          "model_module_version": "1.2.0",
          "state": {
            "_model_module": "@jupyter-widgets/base",
            "_model_module_version": "1.2.0",
            "_model_name": "LayoutModel",
            "_view_count": null,
            "_view_module": "@jupyter-widgets/base",
            "_view_module_version": "1.2.0",
            "_view_name": "LayoutView",
            "align_content": null,
            "align_items": null,
            "align_self": null,
            "border": null,
            "bottom": null,
            "display": null,
            "flex": null,
            "flex_flow": null,
            "grid_area": null,
            "grid_auto_columns": null,
            "grid_auto_flow": null,
            "grid_auto_rows": null,
            "grid_column": null,
            "grid_gap": null,
            "grid_row": null,
            "grid_template_areas": null,
            "grid_template_columns": null,
            "grid_template_rows": null,
            "height": null,
            "justify_content": null,
            "justify_items": null,
            "left": null,
            "margin": null,
            "max_height": null,
            "max_width": null,
            "min_height": null,
            "min_width": null,
            "object_fit": null,
            "object_position": null,
            "order": null,
            "overflow": null,
            "overflow_x": null,
            "overflow_y": null,
            "padding": null,
            "right": null,
            "top": null,
            "visibility": null,
            "width": null
          }
        },
        "a31a3b4fca7d4c898ff3a149d25f0d63": {
          "model_module": "@jupyter-widgets/controls",
          "model_name": "ProgressStyleModel",
          "model_module_version": "1.5.0",
          "state": {
            "_model_module": "@jupyter-widgets/controls",
            "_model_module_version": "1.5.0",
            "_model_name": "ProgressStyleModel",
            "_view_count": null,
            "_view_module": "@jupyter-widgets/base",
            "_view_module_version": "1.2.0",
            "_view_name": "StyleView",
            "bar_color": null,
            "description_width": ""
          }
        },
        "f3a70f702a0449a4bd83bda2f276c5f5": {
          "model_module": "@jupyter-widgets/base",
          "model_name": "LayoutModel",
          "model_module_version": "1.2.0",
          "state": {
            "_model_module": "@jupyter-widgets/base",
            "_model_module_version": "1.2.0",
            "_model_name": "LayoutModel",
            "_view_count": null,
            "_view_module": "@jupyter-widgets/base",
            "_view_module_version": "1.2.0",
            "_view_name": "LayoutView",
            "align_content": null,
            "align_items": null,
            "align_self": null,
            "border": null,
            "bottom": null,
            "display": null,
            "flex": null,
            "flex_flow": null,
            "grid_area": null,
            "grid_auto_columns": null,
            "grid_auto_flow": null,
            "grid_auto_rows": null,
            "grid_column": null,
            "grid_gap": null,
            "grid_row": null,
            "grid_template_areas": null,
            "grid_template_columns": null,
            "grid_template_rows": null,
            "height": null,
            "justify_content": null,
            "justify_items": null,
            "left": null,
            "margin": null,
            "max_height": null,
            "max_width": null,
            "min_height": null,
            "min_width": null,
            "object_fit": null,
            "object_position": null,
            "order": null,
            "overflow": null,
            "overflow_x": null,
            "overflow_y": null,
            "padding": null,
            "right": null,
            "top": null,
            "visibility": null,
            "width": null
          }
        },
        "bf9c8ea479ba475aa0c21e2dc0408320": {
          "model_module": "@jupyter-widgets/controls",
          "model_name": "DescriptionStyleModel",
          "model_module_version": "1.5.0",
          "state": {
            "_model_module": "@jupyter-widgets/controls",
            "_model_module_version": "1.5.0",
            "_model_name": "DescriptionStyleModel",
            "_view_count": null,
            "_view_module": "@jupyter-widgets/base",
            "_view_module_version": "1.2.0",
            "_view_name": "StyleView",
            "description_width": ""
          }
        },
        "d363d04d35184afea10210a2f22e3783": {
          "model_module": "@jupyter-widgets/controls",
          "model_name": "HBoxModel",
          "model_module_version": "1.5.0",
          "state": {
            "_dom_classes": [],
            "_model_module": "@jupyter-widgets/controls",
            "_model_module_version": "1.5.0",
            "_model_name": "HBoxModel",
            "_view_count": null,
            "_view_module": "@jupyter-widgets/controls",
            "_view_module_version": "1.5.0",
            "_view_name": "HBoxView",
            "box_style": "",
            "children": [
              "IPY_MODEL_798df4d54a1f4edfa145614e93e4c2eb",
              "IPY_MODEL_e2c9acc3b0d14aa7a99af86a45a07089",
              "IPY_MODEL_b99e9599f7a04a97a51e94cc9f52fa9b"
            ],
            "layout": "IPY_MODEL_b0d8106cf2eb481f91dbbce9d1ee78ae"
          }
        },
        "798df4d54a1f4edfa145614e93e4c2eb": {
          "model_module": "@jupyter-widgets/controls",
          "model_name": "HTMLModel",
          "model_module_version": "1.5.0",
          "state": {
            "_dom_classes": [],
            "_model_module": "@jupyter-widgets/controls",
            "_model_module_version": "1.5.0",
            "_model_name": "HTMLModel",
            "_view_count": null,
            "_view_module": "@jupyter-widgets/controls",
            "_view_module_version": "1.5.0",
            "_view_name": "HTMLView",
            "description": "",
            "description_tooltip": null,
            "layout": "IPY_MODEL_cb2383c06e2246cba2cf636ace2b8d1b",
            "placeholder": "​",
            "style": "IPY_MODEL_2946cafbd4a945f280c703bed3ff7972",
            "value": "Downloading (…)okenizer_config.json: 100%"
          }
        },
        "e2c9acc3b0d14aa7a99af86a45a07089": {
          "model_module": "@jupyter-widgets/controls",
          "model_name": "FloatProgressModel",
          "model_module_version": "1.5.0",
          "state": {
            "_dom_classes": [],
            "_model_module": "@jupyter-widgets/controls",
            "_model_module_version": "1.5.0",
            "_model_name": "FloatProgressModel",
            "_view_count": null,
            "_view_module": "@jupyter-widgets/controls",
            "_view_module_version": "1.5.0",
            "_view_name": "ProgressView",
            "bar_style": "success",
            "description": "",
            "description_tooltip": null,
            "layout": "IPY_MODEL_5bec231504b1499093ecfb3089ab00dd",
            "max": 28,
            "min": 0,
            "orientation": "horizontal",
            "style": "IPY_MODEL_65e9e1ff9965414d9e61e9360066908a",
            "value": 28
          }
        },
        "b99e9599f7a04a97a51e94cc9f52fa9b": {
          "model_module": "@jupyter-widgets/controls",
          "model_name": "HTMLModel",
          "model_module_version": "1.5.0",
          "state": {
            "_dom_classes": [],
            "_model_module": "@jupyter-widgets/controls",
            "_model_module_version": "1.5.0",
            "_model_name": "HTMLModel",
            "_view_count": null,
            "_view_module": "@jupyter-widgets/controls",
            "_view_module_version": "1.5.0",
            "_view_name": "HTMLView",
            "description": "",
            "description_tooltip": null,
            "layout": "IPY_MODEL_3d29538739874478b2c1dde6c461e693",
            "placeholder": "​",
            "style": "IPY_MODEL_6d41e2494463405b83e11cea79080199",
            "value": " 28.0/28.0 [00:00&lt;00:00, 1.73kB/s]"
          }
        },
        "b0d8106cf2eb481f91dbbce9d1ee78ae": {
          "model_module": "@jupyter-widgets/base",
          "model_name": "LayoutModel",
          "model_module_version": "1.2.0",
          "state": {
            "_model_module": "@jupyter-widgets/base",
            "_model_module_version": "1.2.0",
            "_model_name": "LayoutModel",
            "_view_count": null,
            "_view_module": "@jupyter-widgets/base",
            "_view_module_version": "1.2.0",
            "_view_name": "LayoutView",
            "align_content": null,
            "align_items": null,
            "align_self": null,
            "border": null,
            "bottom": null,
            "display": null,
            "flex": null,
            "flex_flow": null,
            "grid_area": null,
            "grid_auto_columns": null,
            "grid_auto_flow": null,
            "grid_auto_rows": null,
            "grid_column": null,
            "grid_gap": null,
            "grid_row": null,
            "grid_template_areas": null,
            "grid_template_columns": null,
            "grid_template_rows": null,
            "height": null,
            "justify_content": null,
            "justify_items": null,
            "left": null,
            "margin": null,
            "max_height": null,
            "max_width": null,
            "min_height": null,
            "min_width": null,
            "object_fit": null,
            "object_position": null,
            "order": null,
            "overflow": null,
            "overflow_x": null,
            "overflow_y": null,
            "padding": null,
            "right": null,
            "top": null,
            "visibility": null,
            "width": null
          }
        },
        "cb2383c06e2246cba2cf636ace2b8d1b": {
          "model_module": "@jupyter-widgets/base",
          "model_name": "LayoutModel",
          "model_module_version": "1.2.0",
          "state": {
            "_model_module": "@jupyter-widgets/base",
            "_model_module_version": "1.2.0",
            "_model_name": "LayoutModel",
            "_view_count": null,
            "_view_module": "@jupyter-widgets/base",
            "_view_module_version": "1.2.0",
            "_view_name": "LayoutView",
            "align_content": null,
            "align_items": null,
            "align_self": null,
            "border": null,
            "bottom": null,
            "display": null,
            "flex": null,
            "flex_flow": null,
            "grid_area": null,
            "grid_auto_columns": null,
            "grid_auto_flow": null,
            "grid_auto_rows": null,
            "grid_column": null,
            "grid_gap": null,
            "grid_row": null,
            "grid_template_areas": null,
            "grid_template_columns": null,
            "grid_template_rows": null,
            "height": null,
            "justify_content": null,
            "justify_items": null,
            "left": null,
            "margin": null,
            "max_height": null,
            "max_width": null,
            "min_height": null,
            "min_width": null,
            "object_fit": null,
            "object_position": null,
            "order": null,
            "overflow": null,
            "overflow_x": null,
            "overflow_y": null,
            "padding": null,
            "right": null,
            "top": null,
            "visibility": null,
            "width": null
          }
        },
        "2946cafbd4a945f280c703bed3ff7972": {
          "model_module": "@jupyter-widgets/controls",
          "model_name": "DescriptionStyleModel",
          "model_module_version": "1.5.0",
          "state": {
            "_model_module": "@jupyter-widgets/controls",
            "_model_module_version": "1.5.0",
            "_model_name": "DescriptionStyleModel",
            "_view_count": null,
            "_view_module": "@jupyter-widgets/base",
            "_view_module_version": "1.2.0",
            "_view_name": "StyleView",
            "description_width": ""
          }
        },
        "5bec231504b1499093ecfb3089ab00dd": {
          "model_module": "@jupyter-widgets/base",
          "model_name": "LayoutModel",
          "model_module_version": "1.2.0",
          "state": {
            "_model_module": "@jupyter-widgets/base",
            "_model_module_version": "1.2.0",
            "_model_name": "LayoutModel",
            "_view_count": null,
            "_view_module": "@jupyter-widgets/base",
            "_view_module_version": "1.2.0",
            "_view_name": "LayoutView",
            "align_content": null,
            "align_items": null,
            "align_self": null,
            "border": null,
            "bottom": null,
            "display": null,
            "flex": null,
            "flex_flow": null,
            "grid_area": null,
            "grid_auto_columns": null,
            "grid_auto_flow": null,
            "grid_auto_rows": null,
            "grid_column": null,
            "grid_gap": null,
            "grid_row": null,
            "grid_template_areas": null,
            "grid_template_columns": null,
            "grid_template_rows": null,
            "height": null,
            "justify_content": null,
            "justify_items": null,
            "left": null,
            "margin": null,
            "max_height": null,
            "max_width": null,
            "min_height": null,
            "min_width": null,
            "object_fit": null,
            "object_position": null,
            "order": null,
            "overflow": null,
            "overflow_x": null,
            "overflow_y": null,
            "padding": null,
            "right": null,
            "top": null,
            "visibility": null,
            "width": null
          }
        },
        "65e9e1ff9965414d9e61e9360066908a": {
          "model_module": "@jupyter-widgets/controls",
          "model_name": "ProgressStyleModel",
          "model_module_version": "1.5.0",
          "state": {
            "_model_module": "@jupyter-widgets/controls",
            "_model_module_version": "1.5.0",
            "_model_name": "ProgressStyleModel",
            "_view_count": null,
            "_view_module": "@jupyter-widgets/base",
            "_view_module_version": "1.2.0",
            "_view_name": "StyleView",
            "bar_color": null,
            "description_width": ""
          }
        },
        "3d29538739874478b2c1dde6c461e693": {
          "model_module": "@jupyter-widgets/base",
          "model_name": "LayoutModel",
          "model_module_version": "1.2.0",
          "state": {
            "_model_module": "@jupyter-widgets/base",
            "_model_module_version": "1.2.0",
            "_model_name": "LayoutModel",
            "_view_count": null,
            "_view_module": "@jupyter-widgets/base",
            "_view_module_version": "1.2.0",
            "_view_name": "LayoutView",
            "align_content": null,
            "align_items": null,
            "align_self": null,
            "border": null,
            "bottom": null,
            "display": null,
            "flex": null,
            "flex_flow": null,
            "grid_area": null,
            "grid_auto_columns": null,
            "grid_auto_flow": null,
            "grid_auto_rows": null,
            "grid_column": null,
            "grid_gap": null,
            "grid_row": null,
            "grid_template_areas": null,
            "grid_template_columns": null,
            "grid_template_rows": null,
            "height": null,
            "justify_content": null,
            "justify_items": null,
            "left": null,
            "margin": null,
            "max_height": null,
            "max_width": null,
            "min_height": null,
            "min_width": null,
            "object_fit": null,
            "object_position": null,
            "order": null,
            "overflow": null,
            "overflow_x": null,
            "overflow_y": null,
            "padding": null,
            "right": null,
            "top": null,
            "visibility": null,
            "width": null
          }
        },
        "6d41e2494463405b83e11cea79080199": {
          "model_module": "@jupyter-widgets/controls",
          "model_name": "DescriptionStyleModel",
          "model_module_version": "1.5.0",
          "state": {
            "_model_module": "@jupyter-widgets/controls",
            "_model_module_version": "1.5.0",
            "_model_name": "DescriptionStyleModel",
            "_view_count": null,
            "_view_module": "@jupyter-widgets/base",
            "_view_module_version": "1.2.0",
            "_view_name": "StyleView",
            "description_width": ""
          }
        },
        "c7ce2593cf204046a5e439284bac4946": {
          "model_module": "@jupyter-widgets/controls",
          "model_name": "HBoxModel",
          "model_module_version": "1.5.0",
          "state": {
            "_dom_classes": [],
            "_model_module": "@jupyter-widgets/controls",
            "_model_module_version": "1.5.0",
            "_model_name": "HBoxModel",
            "_view_count": null,
            "_view_module": "@jupyter-widgets/controls",
            "_view_module_version": "1.5.0",
            "_view_name": "HBoxView",
            "box_style": "",
            "children": [
              "IPY_MODEL_503cc42fdfb44520a35f65b535ed6f56",
              "IPY_MODEL_3a9c435121be47b39a069b408ec0df63",
              "IPY_MODEL_d574b968420440ec8a74953cca4a44f1"
            ],
            "layout": "IPY_MODEL_ba2208e7cff648de90f4f89ac9996c42"
          }
        },
        "503cc42fdfb44520a35f65b535ed6f56": {
          "model_module": "@jupyter-widgets/controls",
          "model_name": "HTMLModel",
          "model_module_version": "1.5.0",
          "state": {
            "_dom_classes": [],
            "_model_module": "@jupyter-widgets/controls",
            "_model_module_version": "1.5.0",
            "_model_name": "HTMLModel",
            "_view_count": null,
            "_view_module": "@jupyter-widgets/controls",
            "_view_module_version": "1.5.0",
            "_view_name": "HTMLView",
            "description": "",
            "description_tooltip": null,
            "layout": "IPY_MODEL_efa59e71bc1a48d6b6f922cbc54582a8",
            "placeholder": "​",
            "style": "IPY_MODEL_3beaa29ce18343c6b8abf19f7549c8b7",
            "value": "Downloading (…)solve/main/vocab.txt: 100%"
          }
        },
        "3a9c435121be47b39a069b408ec0df63": {
          "model_module": "@jupyter-widgets/controls",
          "model_name": "FloatProgressModel",
          "model_module_version": "1.5.0",
          "state": {
            "_dom_classes": [],
            "_model_module": "@jupyter-widgets/controls",
            "_model_module_version": "1.5.0",
            "_model_name": "FloatProgressModel",
            "_view_count": null,
            "_view_module": "@jupyter-widgets/controls",
            "_view_module_version": "1.5.0",
            "_view_name": "ProgressView",
            "bar_style": "success",
            "description": "",
            "description_tooltip": null,
            "layout": "IPY_MODEL_ccdb633a374d49aea35840c82f7d180b",
            "max": 231508,
            "min": 0,
            "orientation": "horizontal",
            "style": "IPY_MODEL_d1a0c18c44ff4548a949a9e4e9cc1ca9",
            "value": 231508
          }
        },
        "d574b968420440ec8a74953cca4a44f1": {
          "model_module": "@jupyter-widgets/controls",
          "model_name": "HTMLModel",
          "model_module_version": "1.5.0",
          "state": {
            "_dom_classes": [],
            "_model_module": "@jupyter-widgets/controls",
            "_model_module_version": "1.5.0",
            "_model_name": "HTMLModel",
            "_view_count": null,
            "_view_module": "@jupyter-widgets/controls",
            "_view_module_version": "1.5.0",
            "_view_name": "HTMLView",
            "description": "",
            "description_tooltip": null,
            "layout": "IPY_MODEL_9bd837175ac8403da80af621b834a3ef",
            "placeholder": "​",
            "style": "IPY_MODEL_76c9e8ed4aad45e09a5308e985ec0096",
            "value": " 232k/232k [00:00&lt;00:00, 348kB/s]"
          }
        },
        "ba2208e7cff648de90f4f89ac9996c42": {
          "model_module": "@jupyter-widgets/base",
          "model_name": "LayoutModel",
          "model_module_version": "1.2.0",
          "state": {
            "_model_module": "@jupyter-widgets/base",
            "_model_module_version": "1.2.0",
            "_model_name": "LayoutModel",
            "_view_count": null,
            "_view_module": "@jupyter-widgets/base",
            "_view_module_version": "1.2.0",
            "_view_name": "LayoutView",
            "align_content": null,
            "align_items": null,
            "align_self": null,
            "border": null,
            "bottom": null,
            "display": null,
            "flex": null,
            "flex_flow": null,
            "grid_area": null,
            "grid_auto_columns": null,
            "grid_auto_flow": null,
            "grid_auto_rows": null,
            "grid_column": null,
            "grid_gap": null,
            "grid_row": null,
            "grid_template_areas": null,
            "grid_template_columns": null,
            "grid_template_rows": null,
            "height": null,
            "justify_content": null,
            "justify_items": null,
            "left": null,
            "margin": null,
            "max_height": null,
            "max_width": null,
            "min_height": null,
            "min_width": null,
            "object_fit": null,
            "object_position": null,
            "order": null,
            "overflow": null,
            "overflow_x": null,
            "overflow_y": null,
            "padding": null,
            "right": null,
            "top": null,
            "visibility": null,
            "width": null
          }
        },
        "efa59e71bc1a48d6b6f922cbc54582a8": {
          "model_module": "@jupyter-widgets/base",
          "model_name": "LayoutModel",
          "model_module_version": "1.2.0",
          "state": {
            "_model_module": "@jupyter-widgets/base",
            "_model_module_version": "1.2.0",
            "_model_name": "LayoutModel",
            "_view_count": null,
            "_view_module": "@jupyter-widgets/base",
            "_view_module_version": "1.2.0",
            "_view_name": "LayoutView",
            "align_content": null,
            "align_items": null,
            "align_self": null,
            "border": null,
            "bottom": null,
            "display": null,
            "flex": null,
            "flex_flow": null,
            "grid_area": null,
            "grid_auto_columns": null,
            "grid_auto_flow": null,
            "grid_auto_rows": null,
            "grid_column": null,
            "grid_gap": null,
            "grid_row": null,
            "grid_template_areas": null,
            "grid_template_columns": null,
            "grid_template_rows": null,
            "height": null,
            "justify_content": null,
            "justify_items": null,
            "left": null,
            "margin": null,
            "max_height": null,
            "max_width": null,
            "min_height": null,
            "min_width": null,
            "object_fit": null,
            "object_position": null,
            "order": null,
            "overflow": null,
            "overflow_x": null,
            "overflow_y": null,
            "padding": null,
            "right": null,
            "top": null,
            "visibility": null,
            "width": null
          }
        },
        "3beaa29ce18343c6b8abf19f7549c8b7": {
          "model_module": "@jupyter-widgets/controls",
          "model_name": "DescriptionStyleModel",
          "model_module_version": "1.5.0",
          "state": {
            "_model_module": "@jupyter-widgets/controls",
            "_model_module_version": "1.5.0",
            "_model_name": "DescriptionStyleModel",
            "_view_count": null,
            "_view_module": "@jupyter-widgets/base",
            "_view_module_version": "1.2.0",
            "_view_name": "StyleView",
            "description_width": ""
          }
        },
        "ccdb633a374d49aea35840c82f7d180b": {
          "model_module": "@jupyter-widgets/base",
          "model_name": "LayoutModel",
          "model_module_version": "1.2.0",
          "state": {
            "_model_module": "@jupyter-widgets/base",
            "_model_module_version": "1.2.0",
            "_model_name": "LayoutModel",
            "_view_count": null,
            "_view_module": "@jupyter-widgets/base",
            "_view_module_version": "1.2.0",
            "_view_name": "LayoutView",
            "align_content": null,
            "align_items": null,
            "align_self": null,
            "border": null,
            "bottom": null,
            "display": null,
            "flex": null,
            "flex_flow": null,
            "grid_area": null,
            "grid_auto_columns": null,
            "grid_auto_flow": null,
            "grid_auto_rows": null,
            "grid_column": null,
            "grid_gap": null,
            "grid_row": null,
            "grid_template_areas": null,
            "grid_template_columns": null,
            "grid_template_rows": null,
            "height": null,
            "justify_content": null,
            "justify_items": null,
            "left": null,
            "margin": null,
            "max_height": null,
            "max_width": null,
            "min_height": null,
            "min_width": null,
            "object_fit": null,
            "object_position": null,
            "order": null,
            "overflow": null,
            "overflow_x": null,
            "overflow_y": null,
            "padding": null,
            "right": null,
            "top": null,
            "visibility": null,
            "width": null
          }
        },
        "d1a0c18c44ff4548a949a9e4e9cc1ca9": {
          "model_module": "@jupyter-widgets/controls",
          "model_name": "ProgressStyleModel",
          "model_module_version": "1.5.0",
          "state": {
            "_model_module": "@jupyter-widgets/controls",
            "_model_module_version": "1.5.0",
            "_model_name": "ProgressStyleModel",
            "_view_count": null,
            "_view_module": "@jupyter-widgets/base",
            "_view_module_version": "1.2.0",
            "_view_name": "StyleView",
            "bar_color": null,
            "description_width": ""
          }
        },
        "9bd837175ac8403da80af621b834a3ef": {
          "model_module": "@jupyter-widgets/base",
          "model_name": "LayoutModel",
          "model_module_version": "1.2.0",
          "state": {
            "_model_module": "@jupyter-widgets/base",
            "_model_module_version": "1.2.0",
            "_model_name": "LayoutModel",
            "_view_count": null,
            "_view_module": "@jupyter-widgets/base",
            "_view_module_version": "1.2.0",
            "_view_name": "LayoutView",
            "align_content": null,
            "align_items": null,
            "align_self": null,
            "border": null,
            "bottom": null,
            "display": null,
            "flex": null,
            "flex_flow": null,
            "grid_area": null,
            "grid_auto_columns": null,
            "grid_auto_flow": null,
            "grid_auto_rows": null,
            "grid_column": null,
            "grid_gap": null,
            "grid_row": null,
            "grid_template_areas": null,
            "grid_template_columns": null,
            "grid_template_rows": null,
            "height": null,
            "justify_content": null,
            "justify_items": null,
            "left": null,
            "margin": null,
            "max_height": null,
            "max_width": null,
            "min_height": null,
            "min_width": null,
            "object_fit": null,
            "object_position": null,
            "order": null,
            "overflow": null,
            "overflow_x": null,
            "overflow_y": null,
            "padding": null,
            "right": null,
            "top": null,
            "visibility": null,
            "width": null
          }
        },
        "76c9e8ed4aad45e09a5308e985ec0096": {
          "model_module": "@jupyter-widgets/controls",
          "model_name": "DescriptionStyleModel",
          "model_module_version": "1.5.0",
          "state": {
            "_model_module": "@jupyter-widgets/controls",
            "_model_module_version": "1.5.0",
            "_model_name": "DescriptionStyleModel",
            "_view_count": null,
            "_view_module": "@jupyter-widgets/base",
            "_view_module_version": "1.2.0",
            "_view_name": "StyleView",
            "description_width": ""
          }
        },
        "20cef7556f5f4e61a023c4bb079c0e2a": {
          "model_module": "@jupyter-widgets/controls",
          "model_name": "HBoxModel",
          "model_module_version": "1.5.0",
          "state": {
            "_dom_classes": [],
            "_model_module": "@jupyter-widgets/controls",
            "_model_module_version": "1.5.0",
            "_model_name": "HBoxModel",
            "_view_count": null,
            "_view_module": "@jupyter-widgets/controls",
            "_view_module_version": "1.5.0",
            "_view_name": "HBoxView",
            "box_style": "",
            "children": [
              "IPY_MODEL_4d8fac97cf13414893b76a3e6abf700a",
              "IPY_MODEL_81f07ec89eae4e8aa932c7c22b21425c",
              "IPY_MODEL_c6bbc6a9861141e1b705627ff483f5e0"
            ],
            "layout": "IPY_MODEL_6d81418b8e804292b7c3677589af4e25"
          }
        },
        "4d8fac97cf13414893b76a3e6abf700a": {
          "model_module": "@jupyter-widgets/controls",
          "model_name": "HTMLModel",
          "model_module_version": "1.5.0",
          "state": {
            "_dom_classes": [],
            "_model_module": "@jupyter-widgets/controls",
            "_model_module_version": "1.5.0",
            "_model_name": "HTMLModel",
            "_view_count": null,
            "_view_module": "@jupyter-widgets/controls",
            "_view_module_version": "1.5.0",
            "_view_name": "HTMLView",
            "description": "",
            "description_tooltip": null,
            "layout": "IPY_MODEL_d15954b01cce4f6f9205da1df3e08a7f",
            "placeholder": "​",
            "style": "IPY_MODEL_20facb3fc2e849ad9e66014e502b7faa",
            "value": "Downloading (…)/main/tokenizer.json: 100%"
          }
        },
        "81f07ec89eae4e8aa932c7c22b21425c": {
          "model_module": "@jupyter-widgets/controls",
          "model_name": "FloatProgressModel",
          "model_module_version": "1.5.0",
          "state": {
            "_dom_classes": [],
            "_model_module": "@jupyter-widgets/controls",
            "_model_module_version": "1.5.0",
            "_model_name": "FloatProgressModel",
            "_view_count": null,
            "_view_module": "@jupyter-widgets/controls",
            "_view_module_version": "1.5.0",
            "_view_name": "ProgressView",
            "bar_style": "success",
            "description": "",
            "description_tooltip": null,
            "layout": "IPY_MODEL_918797a5f7a6444a8f00109d8fcfd1f7",
            "max": 466062,
            "min": 0,
            "orientation": "horizontal",
            "style": "IPY_MODEL_d471bccd585f4637a57715aff4ff4efa",
            "value": 466062
          }
        },
        "c6bbc6a9861141e1b705627ff483f5e0": {
          "model_module": "@jupyter-widgets/controls",
          "model_name": "HTMLModel",
          "model_module_version": "1.5.0",
          "state": {
            "_dom_classes": [],
            "_model_module": "@jupyter-widgets/controls",
            "_model_module_version": "1.5.0",
            "_model_name": "HTMLModel",
            "_view_count": null,
            "_view_module": "@jupyter-widgets/controls",
            "_view_module_version": "1.5.0",
            "_view_name": "HTMLView",
            "description": "",
            "description_tooltip": null,
            "layout": "IPY_MODEL_831b0841615349309688b56573d25b17",
            "placeholder": "​",
            "style": "IPY_MODEL_2e3d1679974b42cfa4f0315a565ed66d",
            "value": " 466k/466k [00:00&lt;00:00, 525kB/s]"
          }
        },
        "6d81418b8e804292b7c3677589af4e25": {
          "model_module": "@jupyter-widgets/base",
          "model_name": "LayoutModel",
          "model_module_version": "1.2.0",
          "state": {
            "_model_module": "@jupyter-widgets/base",
            "_model_module_version": "1.2.0",
            "_model_name": "LayoutModel",
            "_view_count": null,
            "_view_module": "@jupyter-widgets/base",
            "_view_module_version": "1.2.0",
            "_view_name": "LayoutView",
            "align_content": null,
            "align_items": null,
            "align_self": null,
            "border": null,
            "bottom": null,
            "display": null,
            "flex": null,
            "flex_flow": null,
            "grid_area": null,
            "grid_auto_columns": null,
            "grid_auto_flow": null,
            "grid_auto_rows": null,
            "grid_column": null,
            "grid_gap": null,
            "grid_row": null,
            "grid_template_areas": null,
            "grid_template_columns": null,
            "grid_template_rows": null,
            "height": null,
            "justify_content": null,
            "justify_items": null,
            "left": null,
            "margin": null,
            "max_height": null,
            "max_width": null,
            "min_height": null,
            "min_width": null,
            "object_fit": null,
            "object_position": null,
            "order": null,
            "overflow": null,
            "overflow_x": null,
            "overflow_y": null,
            "padding": null,
            "right": null,
            "top": null,
            "visibility": null,
            "width": null
          }
        },
        "d15954b01cce4f6f9205da1df3e08a7f": {
          "model_module": "@jupyter-widgets/base",
          "model_name": "LayoutModel",
          "model_module_version": "1.2.0",
          "state": {
            "_model_module": "@jupyter-widgets/base",
            "_model_module_version": "1.2.0",
            "_model_name": "LayoutModel",
            "_view_count": null,
            "_view_module": "@jupyter-widgets/base",
            "_view_module_version": "1.2.0",
            "_view_name": "LayoutView",
            "align_content": null,
            "align_items": null,
            "align_self": null,
            "border": null,
            "bottom": null,
            "display": null,
            "flex": null,
            "flex_flow": null,
            "grid_area": null,
            "grid_auto_columns": null,
            "grid_auto_flow": null,
            "grid_auto_rows": null,
            "grid_column": null,
            "grid_gap": null,
            "grid_row": null,
            "grid_template_areas": null,
            "grid_template_columns": null,
            "grid_template_rows": null,
            "height": null,
            "justify_content": null,
            "justify_items": null,
            "left": null,
            "margin": null,
            "max_height": null,
            "max_width": null,
            "min_height": null,
            "min_width": null,
            "object_fit": null,
            "object_position": null,
            "order": null,
            "overflow": null,
            "overflow_x": null,
            "overflow_y": null,
            "padding": null,
            "right": null,
            "top": null,
            "visibility": null,
            "width": null
          }
        },
        "20facb3fc2e849ad9e66014e502b7faa": {
          "model_module": "@jupyter-widgets/controls",
          "model_name": "DescriptionStyleModel",
          "model_module_version": "1.5.0",
          "state": {
            "_model_module": "@jupyter-widgets/controls",
            "_model_module_version": "1.5.0",
            "_model_name": "DescriptionStyleModel",
            "_view_count": null,
            "_view_module": "@jupyter-widgets/base",
            "_view_module_version": "1.2.0",
            "_view_name": "StyleView",
            "description_width": ""
          }
        },
        "918797a5f7a6444a8f00109d8fcfd1f7": {
          "model_module": "@jupyter-widgets/base",
          "model_name": "LayoutModel",
          "model_module_version": "1.2.0",
          "state": {
            "_model_module": "@jupyter-widgets/base",
            "_model_module_version": "1.2.0",
            "_model_name": "LayoutModel",
            "_view_count": null,
            "_view_module": "@jupyter-widgets/base",
            "_view_module_version": "1.2.0",
            "_view_name": "LayoutView",
            "align_content": null,
            "align_items": null,
            "align_self": null,
            "border": null,
            "bottom": null,
            "display": null,
            "flex": null,
            "flex_flow": null,
            "grid_area": null,
            "grid_auto_columns": null,
            "grid_auto_flow": null,
            "grid_auto_rows": null,
            "grid_column": null,
            "grid_gap": null,
            "grid_row": null,
            "grid_template_areas": null,
            "grid_template_columns": null,
            "grid_template_rows": null,
            "height": null,
            "justify_content": null,
            "justify_items": null,
            "left": null,
            "margin": null,
            "max_height": null,
            "max_width": null,
            "min_height": null,
            "min_width": null,
            "object_fit": null,
            "object_position": null,
            "order": null,
            "overflow": null,
            "overflow_x": null,
            "overflow_y": null,
            "padding": null,
            "right": null,
            "top": null,
            "visibility": null,
            "width": null
          }
        },
        "d471bccd585f4637a57715aff4ff4efa": {
          "model_module": "@jupyter-widgets/controls",
          "model_name": "ProgressStyleModel",
          "model_module_version": "1.5.0",
          "state": {
            "_model_module": "@jupyter-widgets/controls",
            "_model_module_version": "1.5.0",
            "_model_name": "ProgressStyleModel",
            "_view_count": null,
            "_view_module": "@jupyter-widgets/base",
            "_view_module_version": "1.2.0",
            "_view_name": "StyleView",
            "bar_color": null,
            "description_width": ""
          }
        },
        "831b0841615349309688b56573d25b17": {
          "model_module": "@jupyter-widgets/base",
          "model_name": "LayoutModel",
          "model_module_version": "1.2.0",
          "state": {
            "_model_module": "@jupyter-widgets/base",
            "_model_module_version": "1.2.0",
            "_model_name": "LayoutModel",
            "_view_count": null,
            "_view_module": "@jupyter-widgets/base",
            "_view_module_version": "1.2.0",
            "_view_name": "LayoutView",
            "align_content": null,
            "align_items": null,
            "align_self": null,
            "border": null,
            "bottom": null,
            "display": null,
            "flex": null,
            "flex_flow": null,
            "grid_area": null,
            "grid_auto_columns": null,
            "grid_auto_flow": null,
            "grid_auto_rows": null,
            "grid_column": null,
            "grid_gap": null,
            "grid_row": null,
            "grid_template_areas": null,
            "grid_template_columns": null,
            "grid_template_rows": null,
            "height": null,
            "justify_content": null,
            "justify_items": null,
            "left": null,
            "margin": null,
            "max_height": null,
            "max_width": null,
            "min_height": null,
            "min_width": null,
            "object_fit": null,
            "object_position": null,
            "order": null,
            "overflow": null,
            "overflow_x": null,
            "overflow_y": null,
            "padding": null,
            "right": null,
            "top": null,
            "visibility": null,
            "width": null
          }
        },
        "2e3d1679974b42cfa4f0315a565ed66d": {
          "model_module": "@jupyter-widgets/controls",
          "model_name": "DescriptionStyleModel",
          "model_module_version": "1.5.0",
          "state": {
            "_model_module": "@jupyter-widgets/controls",
            "_model_module_version": "1.5.0",
            "_model_name": "DescriptionStyleModel",
            "_view_count": null,
            "_view_module": "@jupyter-widgets/base",
            "_view_module_version": "1.2.0",
            "_view_name": "StyleView",
            "description_width": ""
          }
        }
      }
    }
  },
  "nbformat": 4,
  "nbformat_minor": 5
}